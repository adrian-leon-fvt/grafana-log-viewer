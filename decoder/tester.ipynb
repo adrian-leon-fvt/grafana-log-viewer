{
 "cells": [
  {
   "cell_type": "code",
   "execution_count": 37,
   "id": "45fa31c2",
   "metadata": {},
   "outputs": [
    {
     "name": "stdout",
     "output_type": "stream",
     "text": [
      "Found 379 MF4 files in lower.\n",
      "Found 360 MF4 files in upper.\n"
     ]
    }
   ],
   "source": [
    "from asammdf import MDF, Signal\n",
    "from asammdf.blocks.types import DbcFileType, BusType, StrPath\n",
    "from pathlib import Path\n",
    "import requests\n",
    "from datetime import datetime, timedelta\n",
    "from time import sleep\n",
    "import json\n",
    "from collections.abc import Iterable\n",
    "from collections import defaultdict\n",
    "import cantools\n",
    "import numpy as np\n",
    "import pandas as pd\n",
    "from sending import *\n",
    "import pickle\n",
    "\n",
    "d65_onedrive_files = Path(\n",
    "    r\"/mnt/c/Users/CARAL/Epiroc/Rig Crew - Private - General/5. Testing/CANEdge\"\n",
    ")\n",
    "lower_files = list((d65_onedrive_files / \"Lower\").rglob('*.[mM][fF]4'))\n",
    "upper_files = list((d65_onedrive_files / \"Upper\").rglob('*.[mM][fF]4'))\n",
    "print(f'Found {len(lower_files)} MF4 files in lower.')\n",
    "print(f'Found {len(upper_files)} MF4 files in upper.')"
   ]
  },
  {
   "cell_type": "code",
   "execution_count": 39,
   "id": "03c14e83",
   "metadata": {},
   "outputs": [
    {
     "name": "stdout",
     "output_type": "stream",
     "text": [
      "Lower files...\n",
      "Lower files ... Complete!0%] ...\n",
      "Upper files...\n",
      "Lower files ... Complete!0%] ...\n",
      "Upper files...\n",
      "Upper files ... Complete!0%] ...\n",
      "Upper files ... Complete!\n"
     ]
    }
   ],
   "source": [
    "with open('d65_canedge_file_data.pkl', 'rb') as f:\n",
    "    df = pickle.load(f)\n",
    "\n",
    "def parse_file(group: str, files: list[Path]):\n",
    "    print(f\"{group} files...\")\n",
    "    _count = len(files)\n",
    "    print(f\" Processing {0:4d}/{_count:4d} [{0:3d}%] ...\", end='\\r', flush=True)\n",
    "    for i, file in enumerate(files):\n",
    "        if not file.exists():\n",
    "            print(f\"File {file} does not exist.\")\n",
    "            df.drop(df[df['File'] == str(file)].index, inplace=True)\n",
    "            continue\n",
    "    \n",
    "        if str(file) in df['File'].values:\n",
    "            continue\n",
    "        try:\n",
    "            with MDF(file, process_bus_logging=False) as mdf:\n",
    "                _disp = \"/\".join(str(file).split('/')[str(file).split('/').index(group):])\n",
    "                print(f\" Processing {i:4d}/{_count:4d} [{int(round(100*i/_count)):3d}%] .../{_disp}\", end='\\r', flush=True)\n",
    "                start_date = mdf.start_time\n",
    "                end_date = datetime.fromtimestamp(0, tz=start_date.tzinfo)  # Initialize to epoch in the same timezone\n",
    "                for ch in mdf.iter_channels():\n",
    "                    if len(ch.timestamps):\n",
    "                        if (end_date + timedelta(seconds=ch.timestamps[-1])) > end_date:\n",
    "                            end_date = mdf.start_time + timedelta(seconds=ch.timestamps[-1])\n",
    "                \n",
    "                df.loc[len(df)] = [group, str(file), start_date.isoformat(), end_date.isoformat()]\n",
    "            \n",
    "        except Exception as e:\n",
    "            print(f\"Error processing {file}: {e}\")\n",
    "    \n",
    "    print (f\"{group} files ... Complete!\", flush=True)\n",
    "\n",
    "parse_file('Lower', lower_files)\n",
    "parse_file('Upper', upper_files)"
   ]
  },
  {
   "cell_type": "code",
   "execution_count": 35,
   "id": "a9695ddc",
   "metadata": {},
   "outputs": [
    {
     "data": {
      "text/html": [
       "<div>\n",
       "<style scoped>\n",
       "    .dataframe tbody tr th:only-of-type {\n",
       "        vertical-align: middle;\n",
       "    }\n",
       "\n",
       "    .dataframe tbody tr th {\n",
       "        vertical-align: top;\n",
       "    }\n",
       "\n",
       "    .dataframe thead th {\n",
       "        text-align: right;\n",
       "    }\n",
       "</style>\n",
       "<table border=\"1\" class=\"dataframe\">\n",
       "  <thead>\n",
       "    <tr style=\"text-align: right;\">\n",
       "      <th></th>\n",
       "      <th>Group</th>\n",
       "      <th>File</th>\n",
       "      <th>Start Time</th>\n",
       "      <th>End Time</th>\n",
       "    </tr>\n",
       "  </thead>\n",
       "  <tbody>\n",
       "    <tr>\n",
       "      <th>734</th>\n",
       "      <td>Upper</td>\n",
       "      <td>/mnt/c/Users/CARAL/Epiroc/Rig Crew - Private -...</td>\n",
       "      <td>2025-07-16T17:53:21+00:00</td>\n",
       "      <td>2025-07-16T17:57:38.647150+00:00</td>\n",
       "    </tr>\n",
       "    <tr>\n",
       "      <th>735</th>\n",
       "      <td>Upper</td>\n",
       "      <td>/mnt/c/Users/CARAL/Epiroc/Rig Crew - Private -...</td>\n",
       "      <td>2025-07-16T17:57:45+00:00</td>\n",
       "      <td>2025-07-16T17:59:59.372650+00:00</td>\n",
       "    </tr>\n",
       "    <tr>\n",
       "      <th>736</th>\n",
       "      <td>Upper</td>\n",
       "      <td>/mnt/c/Users/CARAL/Epiroc/Rig Crew - Private -...</td>\n",
       "      <td>2025-07-16T17:57:45+00:00</td>\n",
       "      <td>2025-07-16T18:03:48.200950+00:00</td>\n",
       "    </tr>\n",
       "    <tr>\n",
       "      <th>737</th>\n",
       "      <td>Upper</td>\n",
       "      <td>/mnt/c/Users/CARAL/Epiroc/Rig Crew - Private -...</td>\n",
       "      <td>2025-07-16T18:04:12+00:00</td>\n",
       "      <td>2025-07-16T18:10:21.469750+00:00</td>\n",
       "    </tr>\n",
       "    <tr>\n",
       "      <th>738</th>\n",
       "      <td>Upper</td>\n",
       "      <td>/mnt/c/Users/CARAL/Epiroc/Rig Crew - Private -...</td>\n",
       "      <td>2025-07-16T18:21:34+00:00</td>\n",
       "      <td>2025-07-16T18:28:09.375100+00:00</td>\n",
       "    </tr>\n",
       "  </tbody>\n",
       "</table>\n",
       "</div>"
      ],
      "text/plain": [
       "     Group                                               File  \\\n",
       "734  Upper  /mnt/c/Users/CARAL/Epiroc/Rig Crew - Private -...   \n",
       "735  Upper  /mnt/c/Users/CARAL/Epiroc/Rig Crew - Private -...   \n",
       "736  Upper  /mnt/c/Users/CARAL/Epiroc/Rig Crew - Private -...   \n",
       "737  Upper  /mnt/c/Users/CARAL/Epiroc/Rig Crew - Private -...   \n",
       "738  Upper  /mnt/c/Users/CARAL/Epiroc/Rig Crew - Private -...   \n",
       "\n",
       "                    Start Time                          End Time  \n",
       "734  2025-07-16T17:53:21+00:00  2025-07-16T17:57:38.647150+00:00  \n",
       "735  2025-07-16T17:57:45+00:00  2025-07-16T17:59:59.372650+00:00  \n",
       "736  2025-07-16T17:57:45+00:00  2025-07-16T18:03:48.200950+00:00  \n",
       "737  2025-07-16T18:04:12+00:00  2025-07-16T18:10:21.469750+00:00  \n",
       "738  2025-07-16T18:21:34+00:00  2025-07-16T18:28:09.375100+00:00  "
      ]
     },
     "execution_count": 35,
     "metadata": {},
     "output_type": "execute_result"
    }
   ],
   "source": [
    "df.head()\n",
    "df.tail()"
   ]
  },
  {
   "cell_type": "code",
   "execution_count": 36,
   "id": "a706ffb6",
   "metadata": {},
   "outputs": [
    {
     "name": "stdout",
     "output_type": "stream",
     "text": [
      "DataFrame pickled to mf4_times_df.pkl\n"
     ]
    }
   ],
   "source": [
    "import pickle\n",
    "\n",
    "# Pickle the dataframe to a file\n",
    "with open('d65_canedge_file_data.pkl', 'wb') as f:\n",
    "    pickle.dump(df, f)\n",
    "\n",
    "print('DataFrame pickled to mf4_times_df.pkl')"
   ]
  },
  {
   "cell_type": "code",
   "execution_count": null,
   "id": "f517e317",
   "metadata": {},
   "outputs": [
    {
     "data": {
      "text/plain": [
       "'Lower/5A72CE4C/00001159/00000017.MF4'"
      ]
     },
     "execution_count": 29,
     "metadata": {},
     "output_type": "execute_result"
    }
   ],
   "source": [
    "datetime.now().isoformat()"
   ]
  },
  {
   "cell_type": "code",
   "execution_count": 43,
   "id": "7e73d93b",
   "metadata": {},
   "outputs": [
    {
     "data": {
      "text/plain": [
       "datetime.datetime(2025, 6, 21, 13, 29, 59, 984500, tzinfo=datetime.timezone.utc)"
      ]
     },
     "execution_count": 43,
     "metadata": {},
     "output_type": "execute_result"
    }
   ],
   "source": [
    "datetime.fromisoformat(df.loc[df['File'] == str(lower_files[10])]['End Time'].values[0])"
   ]
  },
  {
   "cell_type": "code",
   "execution_count": null,
   "id": "a2a447be",
   "metadata": {},
   "outputs": [],
   "source": []
  }
 ],
 "metadata": {
  "kernelspec": {
   "display_name": "venv",
   "language": "python",
   "name": "python3"
  },
  "language_info": {
   "codemirror_mode": {
    "name": "ipython",
    "version": 3
   },
   "file_extension": ".py",
   "mimetype": "text/x-python",
   "name": "python",
   "nbconvert_exporter": "python",
   "pygments_lexer": "ipython3",
   "version": "3.10.18"
  }
 },
 "nbformat": 4,
 "nbformat_minor": 5
}
