{
 "cells": [
  {
   "cell_type": "code",
   "execution_count": 6,
   "id": "45fa31c2",
   "metadata": {},
   "outputs": [
    {
     "name": "stdout",
     "output_type": "stream",
     "text": [
      "Found 379 MF4 files in lower.\n",
      "Found 360 MF4 files in upper.\n"
     ]
    }
   ],
   "source": [
    "from asammdf import MDF, Signal\n",
    "from asammdf.blocks.types import DbcFileType, BusType, StrPath\n",
    "from pathlib import Path\n",
    "import requests\n",
    "from datetime import datetime, timedelta\n",
    "from time import sleep\n",
    "import json\n",
    "from collections.abc import Iterable\n",
    "from collections import defaultdict\n",
    "import cantools\n",
    "import numpy as np\n",
    "import pandas as pd\n",
    "from sending import *\n",
    "import pickle\n",
    "import os\n",
    "\n",
    "d65_onedrive_files = Path.joinpath(\n",
    "    Path(r\"C:/\") if os.name == 'nt' else r\"/mnt/c/\",r\"Users/CARAL/Epiroc/Rig Crew - Private - General/5. Testing/CANEdge\"\n",
    ")\n",
    "\n",
    "lower_files = list((d65_onedrive_files / \"Lower\").rglob('*.[mM][fF]4'))\n",
    "upper_files = list((d65_onedrive_files / \"Upper\").rglob('*.[mM][fF]4'))\n",
    "print(f'Found {len(lower_files)} MF4 files in lower.')\n",
    "print(f'Found {len(upper_files)} MF4 files in upper.')"
   ]
  },
  {
   "cell_type": "code",
   "execution_count": 10,
   "id": "8fedaabb",
   "metadata": {},
   "outputs": [
    {
     "name": "stdout",
     "output_type": "stream",
     "text": [
      "   Group                                               File  \\\n",
      "0  Lower  /mnt/c/Users/CARAL/Epiroc/Rig Crew - Private -...   \n",
      "1  Lower  /mnt/c/Users/CARAL/Epiroc/Rig Crew - Private -...   \n",
      "2  Lower  /mnt/c/Users/CARAL/Epiroc/Rig Crew - Private -...   \n",
      "3  Lower  /mnt/c/Users/CARAL/Epiroc/Rig Crew - Private -...   \n",
      "4  Lower  /mnt/c/Users/CARAL/Epiroc/Rig Crew - Private -...   \n",
      "\n",
      "                  Start Time                          End Time  \n",
      "0  2025-06-21T05:46:13+00:00  2025-06-21T09:59:59.978150+00:00  \n",
      "1  2025-06-21T05:46:13+00:00  2025-06-21T11:23:00.516950+00:00  \n",
      "2  2025-06-21T05:46:13+00:00  2025-06-21T11:29:59.980300+00:00  \n",
      "3  2025-06-21T05:46:13+00:00  2025-06-21T11:52:59.812950+00:00  \n",
      "4  2025-06-21T05:46:13+00:00  2025-06-21T11:59:59.968000+00:00  \n",
      "     Group                                               File  \\\n",
      "734  Upper  /mnt/c/Users/CARAL/Epiroc/Rig Crew - Private -...   \n",
      "735  Upper  /mnt/c/Users/CARAL/Epiroc/Rig Crew - Private -...   \n",
      "736  Upper  /mnt/c/Users/CARAL/Epiroc/Rig Crew - Private -...   \n",
      "737  Upper  /mnt/c/Users/CARAL/Epiroc/Rig Crew - Private -...   \n",
      "738  Upper  /mnt/c/Users/CARAL/Epiroc/Rig Crew - Private -...   \n",
      "\n",
      "                    Start Time                          End Time  \n",
      "734  2025-07-16T17:53:21+00:00  2025-07-16T17:57:38.647150+00:00  \n",
      "735  2025-07-16T17:57:45+00:00  2025-07-16T17:59:59.372650+00:00  \n",
      "736  2025-07-16T17:57:45+00:00  2025-07-16T18:03:48.200950+00:00  \n",
      "737  2025-07-16T18:04:12+00:00  2025-07-16T18:10:21.469750+00:00  \n",
      "738  2025-07-16T18:21:34+00:00  2025-07-16T18:28:09.375100+00:00  \n"
     ]
    }
   ],
   "source": [
    "with open('d65_canedge_file_data.pkl', 'rb') as f:\n",
    "    df = pickle.load(f)\n",
    "\n",
    "print(df.head())\n",
    "print(df.tail())"
   ]
  },
  {
   "cell_type": "code",
   "execution_count": 39,
   "id": "03c14e83",
   "metadata": {},
   "outputs": [
    {
     "name": "stdout",
     "output_type": "stream",
     "text": [
      "Lower files...\n",
      "Lower files ... Complete!0%] ...\n",
      "Upper files...\n",
      "Lower files ... Complete!0%] ...\n",
      "Upper files...\n",
      "Upper files ... Complete!0%] ...\n",
      "Upper files ... Complete!\n"
     ]
    }
   ],
   "source": [
    "with open('d65_canedge_file_data.pkl', 'rb') as f:\n",
    "    df = pickle.load(f)\n",
    "\n",
    "def parse_file(group: str, files: list[Path]):\n",
    "    print(f\"{group} files...\")\n",
    "    _count = len(files)\n",
    "    print(f\" Processing {0:4d}/{_count:4d} [{0:3d}%] ...\", end='\\r', flush=True)\n",
    "    for i, file in enumerate(files):\n",
    "        if not file.exists():\n",
    "            print(f\"File {file} does not exist.\")\n",
    "            df.drop(df[df['File'] == str(file)].index, inplace=True)\n",
    "            continue\n",
    "    \n",
    "        if str(file) in df['File'].values:\n",
    "            continue\n",
    "        try:\n",
    "            with MDF(file, process_bus_logging=False) as mdf:\n",
    "                _disp = \"/\".join(str(file).split('/')[str(file).split('/').index(group):])\n",
    "                print(f\" Processing {i:4d}/{_count:4d} [{int(round(100*i/_count)):3d}%] .../{_disp}\", end='\\r', flush=True)\n",
    "                start_date = mdf.start_time\n",
    "                end_date = datetime.fromtimestamp(0, tz=start_date.tzinfo)  # Initialize to epoch in the same timezone\n",
    "                for ch in mdf.iter_channels():\n",
    "                    if len(ch.timestamps):\n",
    "                        if (end_date + timedelta(seconds=ch.timestamps[-1])) > end_date:\n",
    "                            end_date = mdf.start_time + timedelta(seconds=ch.timestamps[-1])\n",
    "                \n",
    "                df.loc[len(df)] = [group, str(file), start_date.isoformat(), end_date.isoformat()]\n",
    "            \n",
    "        except Exception as e:\n",
    "            print(f\"Error processing {file}: {e}\")\n",
    "    \n",
    "    print (f\"{group} files ... Complete!\", flush=True)\n",
    "\n",
    "parse_file('Lower', lower_files)\n",
    "parse_file('Upper', upper_files)"
   ]
  },
  {
   "cell_type": "code",
   "execution_count": 35,
   "id": "a9695ddc",
   "metadata": {},
   "outputs": [
    {
     "data": {
      "text/html": [
       "<div>\n",
       "<style scoped>\n",
       "    .dataframe tbody tr th:only-of-type {\n",
       "        vertical-align: middle;\n",
       "    }\n",
       "\n",
       "    .dataframe tbody tr th {\n",
       "        vertical-align: top;\n",
       "    }\n",
       "\n",
       "    .dataframe thead th {\n",
       "        text-align: right;\n",
       "    }\n",
       "</style>\n",
       "<table border=\"1\" class=\"dataframe\">\n",
       "  <thead>\n",
       "    <tr style=\"text-align: right;\">\n",
       "      <th></th>\n",
       "      <th>Group</th>\n",
       "      <th>File</th>\n",
       "      <th>Start Time</th>\n",
       "      <th>End Time</th>\n",
       "    </tr>\n",
       "  </thead>\n",
       "  <tbody>\n",
       "    <tr>\n",
       "      <th>734</th>\n",
       "      <td>Upper</td>\n",
       "      <td>/mnt/c/Users/CARAL/Epiroc/Rig Crew - Private -...</td>\n",
       "      <td>2025-07-16T17:53:21+00:00</td>\n",
       "      <td>2025-07-16T17:57:38.647150+00:00</td>\n",
       "    </tr>\n",
       "    <tr>\n",
       "      <th>735</th>\n",
       "      <td>Upper</td>\n",
       "      <td>/mnt/c/Users/CARAL/Epiroc/Rig Crew - Private -...</td>\n",
       "      <td>2025-07-16T17:57:45+00:00</td>\n",
       "      <td>2025-07-16T17:59:59.372650+00:00</td>\n",
       "    </tr>\n",
       "    <tr>\n",
       "      <th>736</th>\n",
       "      <td>Upper</td>\n",
       "      <td>/mnt/c/Users/CARAL/Epiroc/Rig Crew - Private -...</td>\n",
       "      <td>2025-07-16T17:57:45+00:00</td>\n",
       "      <td>2025-07-16T18:03:48.200950+00:00</td>\n",
       "    </tr>\n",
       "    <tr>\n",
       "      <th>737</th>\n",
       "      <td>Upper</td>\n",
       "      <td>/mnt/c/Users/CARAL/Epiroc/Rig Crew - Private -...</td>\n",
       "      <td>2025-07-16T18:04:12+00:00</td>\n",
       "      <td>2025-07-16T18:10:21.469750+00:00</td>\n",
       "    </tr>\n",
       "    <tr>\n",
       "      <th>738</th>\n",
       "      <td>Upper</td>\n",
       "      <td>/mnt/c/Users/CARAL/Epiroc/Rig Crew - Private -...</td>\n",
       "      <td>2025-07-16T18:21:34+00:00</td>\n",
       "      <td>2025-07-16T18:28:09.375100+00:00</td>\n",
       "    </tr>\n",
       "  </tbody>\n",
       "</table>\n",
       "</div>"
      ],
      "text/plain": [
       "     Group                                               File  \\\n",
       "734  Upper  /mnt/c/Users/CARAL/Epiroc/Rig Crew - Private -...   \n",
       "735  Upper  /mnt/c/Users/CARAL/Epiroc/Rig Crew - Private -...   \n",
       "736  Upper  /mnt/c/Users/CARAL/Epiroc/Rig Crew - Private -...   \n",
       "737  Upper  /mnt/c/Users/CARAL/Epiroc/Rig Crew - Private -...   \n",
       "738  Upper  /mnt/c/Users/CARAL/Epiroc/Rig Crew - Private -...   \n",
       "\n",
       "                    Start Time                          End Time  \n",
       "734  2025-07-16T17:53:21+00:00  2025-07-16T17:57:38.647150+00:00  \n",
       "735  2025-07-16T17:57:45+00:00  2025-07-16T17:59:59.372650+00:00  \n",
       "736  2025-07-16T17:57:45+00:00  2025-07-16T18:03:48.200950+00:00  \n",
       "737  2025-07-16T18:04:12+00:00  2025-07-16T18:10:21.469750+00:00  \n",
       "738  2025-07-16T18:21:34+00:00  2025-07-16T18:28:09.375100+00:00  "
      ]
     },
     "execution_count": 35,
     "metadata": {},
     "output_type": "execute_result"
    }
   ],
   "source": [
    "df.head()\n",
    "df.tail()"
   ]
  },
  {
   "cell_type": "code",
   "execution_count": 36,
   "id": "a706ffb6",
   "metadata": {},
   "outputs": [
    {
     "name": "stdout",
     "output_type": "stream",
     "text": [
      "DataFrame pickled to mf4_times_df.pkl\n"
     ]
    }
   ],
   "source": [
    "import pickle\n",
    "\n",
    "# Pickle the dataframe to a file\n",
    "with open('d65_canedge_file_data.pkl', 'wb') as f:\n",
    "    pickle.dump(df, f)\n",
    "\n",
    "print('DataFrame pickled to mf4_times_df.pkl')"
   ]
  },
  {
   "cell_type": "code",
   "execution_count": null,
   "id": "f517e317",
   "metadata": {},
   "outputs": [
    {
     "data": {
      "text/plain": [
       "'Lower/5A72CE4C/00001159/00000017.MF4'"
      ]
     },
     "execution_count": 29,
     "metadata": {},
     "output_type": "execute_result"
    }
   ],
   "source": [
    "datetime.now().isoformat()"
   ]
  },
  {
   "cell_type": "code",
   "execution_count": 43,
   "id": "7e73d93b",
   "metadata": {},
   "outputs": [
    {
     "data": {
      "text/plain": [
       "datetime.datetime(2025, 6, 21, 13, 29, 59, 984500, tzinfo=datetime.timezone.utc)"
      ]
     },
     "execution_count": 43,
     "metadata": {},
     "output_type": "execute_result"
    }
   ],
   "source": [
    "datetime.fromisoformat(df.loc[df['File'] == str(lower_files[10])]['End Time'].values[0])"
   ]
  },
  {
   "cell_type": "code",
   "execution_count": 29,
   "id": "a2a447be",
   "metadata": {},
   "outputs": [
    {
     "data": {
      "application/vnd.microsoft.datawrangler.viewer.v0+json": {
       "columns": [
        {
         "name": "index",
         "rawType": "int64",
         "type": "integer"
        },
        {
         "name": "Group",
         "rawType": "object",
         "type": "string"
        },
        {
         "name": "File",
         "rawType": "object",
         "type": "string"
        },
        {
         "name": "Start Time",
         "rawType": "object",
         "type": "string"
        },
        {
         "name": "End Time",
         "rawType": "object",
         "type": "string"
        }
       ],
       "ref": "97e2b36d-621b-46d9-95de-a2385ee971f2",
       "rows": [
        [
         "230",
         "Lower",
         "/mnt/c/Users/CARAL/Epiroc/Rig Crew - Private - General/5. Testing/CANEdge/Lower/5A72CE4C/00001254/00000001.MF4",
         "2025-07-03T16:15:40+00:00",
         "2025-07-03T16:29:59.985800+00:00"
        ],
        [
         "231",
         "Lower",
         "/mnt/c/Users/CARAL/Epiroc/Rig Crew - Private - General/5. Testing/CANEdge/Lower/5A72CE4C/00001254/00000002.MF4",
         "2025-07-03T16:15:40+00:00",
         "2025-07-03T16:51:06.090950+00:00"
        ],
        [
         "232",
         "Lower",
         "/mnt/c/Users/CARAL/Epiroc/Rig Crew - Private - General/5. Testing/CANEdge/Lower/5A72CE4C/00001254/00000003.MF4",
         "2025-07-03T16:15:40+00:00",
         "2025-07-03T16:58:31.439050+00:00"
        ],
        [
         "233",
         "Lower",
         "/mnt/c/Users/CARAL/Epiroc/Rig Crew - Private - General/5. Testing/CANEdge/Lower/5A72CE4C/00001255/00000001.MF4",
         "2025-07-03T16:58:52+00:00",
         "2025-07-03T16:59:59.963300+00:00"
        ],
        [
         "234",
         "Lower",
         "/mnt/c/Users/CARAL/Epiroc/Rig Crew - Private - General/5. Testing/CANEdge/Lower/5A72CE4C/00001255/00000002.MF4",
         "2025-07-03T16:58:52+00:00",
         "2025-07-03T17:07:22.600500+00:00"
        ],
        [
         "235",
         "Lower",
         "/mnt/c/Users/CARAL/Epiroc/Rig Crew - Private - General/5. Testing/CANEdge/Lower/5A72CE4C/00001256/00000001.MF4",
         "2025-07-03T17:07:28+00:00",
         "2025-07-03T17:14:51.342650+00:00"
        ],
        [
         "236",
         "Lower",
         "/mnt/c/Users/CARAL/Epiroc/Rig Crew - Private - General/5. Testing/CANEdge/Lower/5A72CE4C/00001257/00000001.MF4",
         "2025-07-03T17:14:57+00:00",
         "2025-07-03T17:29:59.967450+00:00"
        ],
        [
         "237",
         "Lower",
         "/mnt/c/Users/CARAL/Epiroc/Rig Crew - Private - General/5. Testing/CANEdge/Lower/5A72CE4C/00001257/00000002.MF4",
         "2025-07-03T17:14:57+00:00",
         "2025-07-03T17:58:58.060650+00:00"
        ],
        [
         "238",
         "Lower",
         "/mnt/c/Users/CARAL/Epiroc/Rig Crew - Private - General/5. Testing/CANEdge/Lower/5A72CE4C/00001257/00000003.MF4",
         "2025-07-03T17:14:57+00:00",
         "2025-07-03T17:59:59.978250+00:00"
        ],
        [
         "239",
         "Lower",
         "/mnt/c/Users/CARAL/Epiroc/Rig Crew - Private - General/5. Testing/CANEdge/Lower/5A72CE4C/00001257/00000004.MF4",
         "2025-07-03T17:14:57+00:00",
         "2025-07-03T18:08:04.234650+00:00"
        ],
        [
         "240",
         "Lower",
         "/mnt/c/Users/CARAL/Epiroc/Rig Crew - Private - General/5. Testing/CANEdge/Lower/5A72CE4C/00001258/00000001.MF4",
         "2025-07-03T18:08:43+00:00",
         "2025-07-03T18:12:02.675250+00:00"
        ],
        [
         "241",
         "Lower",
         "/mnt/c/Users/CARAL/Epiroc/Rig Crew - Private - General/5. Testing/CANEdge/Lower/5A72CE4C/00001259/00000001.MF4",
         "2025-07-03T18:13:55+00:00",
         "2025-07-03T18:29:59.986200+00:00"
        ],
        [
         "242",
         "Lower",
         "/mnt/c/Users/CARAL/Epiroc/Rig Crew - Private - General/5. Testing/CANEdge/Lower/5A72CE4C/00001259/00000002.MF4",
         "2025-07-03T18:13:55+00:00",
         "2025-07-03T18:36:42.329600+00:00"
        ],
        [
         "243",
         "Lower",
         "/mnt/c/Users/CARAL/Epiroc/Rig Crew - Private - General/5. Testing/CANEdge/Lower/5A72CE4C/00001260/00000001.MF4",
         "2025-07-03T18:36:52+00:00",
         "2025-07-03T18:58:46.114850+00:00"
        ],
        [
         "244",
         "Lower",
         "/mnt/c/Users/CARAL/Epiroc/Rig Crew - Private - General/5. Testing/CANEdge/Lower/5A72CE4C/00001260/00000002.MF4",
         "2025-07-03T18:36:52+00:00",
         "2025-07-03T18:59:59.981750+00:00"
        ],
        [
         "245",
         "Lower",
         "/mnt/c/Users/CARAL/Epiroc/Rig Crew - Private - General/5. Testing/CANEdge/Lower/5A72CE4C/00001260/00000003.MF4",
         "2025-07-03T18:36:52+00:00",
         "2025-07-03T19:21:54.468650+00:00"
        ],
        [
         "246",
         "Lower",
         "/mnt/c/Users/CARAL/Epiroc/Rig Crew - Private - General/5. Testing/CANEdge/Lower/5A72CE4C/00001260/00000004.MF4",
         "2025-07-03T18:36:52+00:00",
         "2025-07-03T19:29:35.486000+00:00"
        ],
        [
         "247",
         "Lower",
         "/mnt/c/Users/CARAL/Epiroc/Rig Crew - Private - General/5. Testing/CANEdge/Lower/5A72CE4C/00001261/00000001.MF4",
         "2025-07-03T19:29:41+00:00",
         "2025-07-03T19:29:59.938650+00:00"
        ],
        [
         "248",
         "Lower",
         "/mnt/c/Users/CARAL/Epiroc/Rig Crew - Private - General/5. Testing/CANEdge/Lower/5A72CE4C/00001261/00000002.MF4",
         "2025-07-03T19:29:41+00:00",
         "2025-07-03T19:41:04.156450+00:00"
        ],
        [
         "249",
         "Lower",
         "/mnt/c/Users/CARAL/Epiroc/Rig Crew - Private - General/5. Testing/CANEdge/Lower/5A72CE4C/00001262/00000001.MF4",
         "2025-07-03T19:41:10+00:00",
         "2025-07-03T19:59:59.975950+00:00"
        ],
        [
         "250",
         "Lower",
         "/mnt/c/Users/CARAL/Epiroc/Rig Crew - Private - General/5. Testing/CANEdge/Lower/5A72CE4C/00001262/00000002.MF4",
         "2025-07-03T19:41:10+00:00",
         "2025-07-03T20:21:11.904600+00:00"
        ],
        [
         "251",
         "Lower",
         "/mnt/c/Users/CARAL/Epiroc/Rig Crew - Private - General/5. Testing/CANEdge/Lower/5A72CE4C/00001262/00000003.MF4",
         "2025-07-03T19:41:10+00:00",
         "2025-07-03T20:29:59.986400+00:00"
        ],
        [
         "252",
         "Lower",
         "/mnt/c/Users/CARAL/Epiroc/Rig Crew - Private - General/5. Testing/CANEdge/Lower/5A72CE4C/00001262/00000004.MF4",
         "2025-07-03T19:41:10+00:00",
         "2025-07-03T20:52:04.186950+00:00"
        ],
        [
         "253",
         "Lower",
         "/mnt/c/Users/CARAL/Epiroc/Rig Crew - Private - General/5. Testing/CANEdge/Lower/5A72CE4C/00001262/00000005.MF4",
         "2025-07-03T19:41:10+00:00",
         "2025-07-03T20:54:21.228800+00:00"
        ],
        [
         "254",
         "Lower",
         "/mnt/c/Users/CARAL/Epiroc/Rig Crew - Private - General/5. Testing/CANEdge/Lower/5A72CE4C/00001263/00000001.MF4",
         "2025-07-03T20:54:26+00:00",
         "2025-07-03T20:59:59.992600+00:00"
        ],
        [
         "255",
         "Lower",
         "/mnt/c/Users/CARAL/Epiroc/Rig Crew - Private - General/5. Testing/CANEdge/Lower/5A72CE4C/00001263/00000002.MF4",
         "2025-07-03T20:54:26+00:00",
         "2025-07-03T21:21:10.101600+00:00"
        ],
        [
         "256",
         "Lower",
         "/mnt/c/Users/CARAL/Epiroc/Rig Crew - Private - General/5. Testing/CANEdge/Lower/5A72CE4C/00001263/00000003.MF4",
         "2025-07-03T20:54:26+00:00",
         "2025-07-03T21:29:59.986250+00:00"
        ],
        [
         "257",
         "Lower",
         "/mnt/c/Users/CARAL/Epiroc/Rig Crew - Private - General/5. Testing/CANEdge/Lower/5A72CE4C/00001263/00000004.MF4",
         "2025-07-03T20:54:26+00:00",
         "2025-07-03T21:50:57.320550+00:00"
        ],
        [
         "258",
         "Lower",
         "/mnt/c/Users/CARAL/Epiroc/Rig Crew - Private - General/5. Testing/CANEdge/Lower/5A72CE4C/00001263/00000005.MF4",
         "2025-07-03T20:54:26+00:00",
         "2025-07-03T21:59:59.965300+00:00"
        ],
        [
         "259",
         "Lower",
         "/mnt/c/Users/CARAL/Epiroc/Rig Crew - Private - General/5. Testing/CANEdge/Lower/5A72CE4C/00001263/00000006.MF4",
         "2025-07-03T20:54:26+00:00",
         "2025-07-03T22:14:39.452750+00:00"
        ],
        [
         "260",
         "Lower",
         "/mnt/c/Users/CARAL/Epiroc/Rig Crew - Private - General/5. Testing/CANEdge/Lower/5A72CE4C/00001264/00000001.MF4",
         "2025-07-03T22:14:49+00:00",
         "2025-07-03T22:29:59.996450+00:00"
        ],
        [
         "261",
         "Lower",
         "/mnt/c/Users/CARAL/Epiroc/Rig Crew - Private - General/5. Testing/CANEdge/Lower/5A72CE4C/00001264/00000002.MF4",
         "2025-07-03T22:14:49+00:00",
         "2025-07-03T22:51:16.443150+00:00"
        ],
        [
         "262",
         "Lower",
         "/mnt/c/Users/CARAL/Epiroc/Rig Crew - Private - General/5. Testing/CANEdge/Lower/5A72CE4C/00001264/00000003.MF4",
         "2025-07-03T22:14:49+00:00",
         "2025-07-03T22:59:59.993000+00:00"
        ],
        [
         "263",
         "Lower",
         "/mnt/c/Users/CARAL/Epiroc/Rig Crew - Private - General/5. Testing/CANEdge/Lower/5A72CE4C/00001264/00000004.MF4",
         "2025-07-03T22:14:49+00:00",
         "2025-07-03T23:11:30.499500+00:00"
        ],
        [
         "264",
         "Lower",
         "/mnt/c/Users/CARAL/Epiroc/Rig Crew - Private - General/5. Testing/CANEdge/Lower/5A72CE4C/00001265/00000001.MF4",
         "2025-07-04T16:07:16+00:00",
         "2025-07-04T16:15:08.446700+00:00"
        ],
        [
         "265",
         "Lower",
         "/mnt/c/Users/CARAL/Epiroc/Rig Crew - Private - General/5. Testing/CANEdge/Lower/5A72CE4C/00001266/00000001.MF4",
         "2025-07-04T16:15:16+00:00",
         "2025-07-04T16:20:27.980350+00:00"
        ],
        [
         "266",
         "Lower",
         "/mnt/c/Users/CARAL/Epiroc/Rig Crew - Private - General/5. Testing/CANEdge/Lower/5A72CE4C/00001267/00000001.MF4",
         "2025-07-04T16:21:25+00:00",
         "2025-07-04T16:24:08.851500+00:00"
        ],
        [
         "267",
         "Lower",
         "/mnt/c/Users/CARAL/Epiroc/Rig Crew - Private - General/5. Testing/CANEdge/Lower/5A72CE4C/00001268/00000001.MF4",
         "2025-07-04T16:24:19+00:00",
         "2025-07-04T16:29:59.971350+00:00"
        ],
        [
         "268",
         "Lower",
         "/mnt/c/Users/CARAL/Epiroc/Rig Crew - Private - General/5. Testing/CANEdge/Lower/5A72CE4C/00001268/00000002.MF4",
         "2025-07-04T16:24:19+00:00",
         "2025-07-04T16:51:27.252200+00:00"
        ],
        [
         "269",
         "Lower",
         "/mnt/c/Users/CARAL/Epiroc/Rig Crew - Private - General/5. Testing/CANEdge/Lower/5A72CE4C/00001268/00000003.MF4",
         "2025-07-04T16:24:19+00:00",
         "2025-07-04T16:59:59.973450+00:00"
        ],
        [
         "270",
         "Lower",
         "/mnt/c/Users/CARAL/Epiroc/Rig Crew - Private - General/5. Testing/CANEdge/Lower/5A72CE4C/00001268/00000004.MF4",
         "2025-07-04T16:24:19+00:00",
         "2025-07-04T17:21:00.774900+00:00"
        ],
        [
         "271",
         "Lower",
         "/mnt/c/Users/CARAL/Epiroc/Rig Crew - Private - General/5. Testing/CANEdge/Lower/5A72CE4C/00001268/00000005.MF4",
         "2025-07-04T16:24:19+00:00",
         "2025-07-04T17:29:59.984900+00:00"
        ],
        [
         "272",
         "Lower",
         "/mnt/c/Users/CARAL/Epiroc/Rig Crew - Private - General/5. Testing/CANEdge/Lower/5A72CE4C/00001268/00000006.MF4",
         "2025-07-04T16:24:19+00:00",
         "2025-07-04T17:50:53.563650+00:00"
        ],
        [
         "273",
         "Lower",
         "/mnt/c/Users/CARAL/Epiroc/Rig Crew - Private - General/5. Testing/CANEdge/Lower/5A72CE4C/00001268/00000007.MF4",
         "2025-07-04T16:24:19+00:00",
         "2025-07-04T17:55:59.943900+00:00"
        ],
        [
         "274",
         "Lower",
         "/mnt/c/Users/CARAL/Epiroc/Rig Crew - Private - General/5. Testing/CANEdge/Lower/5A72CE4C/00001269/00000001.MF4",
         "2025-07-04T17:56:08+00:00",
         "2025-07-04T17:59:59.996250+00:00"
        ],
        [
         "275",
         "Lower",
         "/mnt/c/Users/CARAL/Epiroc/Rig Crew - Private - General/5. Testing/CANEdge/Lower/5A72CE4C/00001269/00000002.MF4",
         "2025-07-04T17:56:08+00:00",
         "2025-07-04T18:21:10.859100+00:00"
        ],
        [
         "276",
         "Lower",
         "/mnt/c/Users/CARAL/Epiroc/Rig Crew - Private - General/5. Testing/CANEdge/Lower/5A72CE4C/00001269/00000003.MF4",
         "2025-07-04T17:56:08+00:00",
         "2025-07-04T18:29:59.994550+00:00"
        ],
        [
         "277",
         "Lower",
         "/mnt/c/Users/CARAL/Epiroc/Rig Crew - Private - General/5. Testing/CANEdge/Lower/5A72CE4C/00001269/00000004.MF4",
         "2025-07-04T17:56:08+00:00",
         "2025-07-04T18:51:18.376500+00:00"
        ],
        [
         "278",
         "Lower",
         "/mnt/c/Users/CARAL/Epiroc/Rig Crew - Private - General/5. Testing/CANEdge/Lower/5A72CE4C/00001269/00000005.MF4",
         "2025-07-04T17:56:08+00:00",
         "2025-07-04T18:59:59.985800+00:00"
        ],
        [
         "279",
         "Lower",
         "/mnt/c/Users/CARAL/Epiroc/Rig Crew - Private - General/5. Testing/CANEdge/Lower/5A72CE4C/00001269/00000006.MF4",
         "2025-07-04T17:56:08+00:00",
         "2025-07-04T19:21:44.674550+00:00"
        ]
       ],
       "shape": {
        "columns": 4,
        "rows": 320
       }
      },
      "text/html": [
       "<div>\n",
       "<style scoped>\n",
       "    .dataframe tbody tr th:only-of-type {\n",
       "        vertical-align: middle;\n",
       "    }\n",
       "\n",
       "    .dataframe tbody tr th {\n",
       "        vertical-align: top;\n",
       "    }\n",
       "\n",
       "    .dataframe thead th {\n",
       "        text-align: right;\n",
       "    }\n",
       "</style>\n",
       "<table border=\"1\" class=\"dataframe\">\n",
       "  <thead>\n",
       "    <tr style=\"text-align: right;\">\n",
       "      <th></th>\n",
       "      <th>Group</th>\n",
       "      <th>File</th>\n",
       "      <th>Start Time</th>\n",
       "      <th>End Time</th>\n",
       "    </tr>\n",
       "  </thead>\n",
       "  <tbody>\n",
       "    <tr>\n",
       "      <th>230</th>\n",
       "      <td>Lower</td>\n",
       "      <td>/mnt/c/Users/CARAL/Epiroc/Rig Crew - Private -...</td>\n",
       "      <td>2025-07-03T16:15:40+00:00</td>\n",
       "      <td>2025-07-03T16:29:59.985800+00:00</td>\n",
       "    </tr>\n",
       "    <tr>\n",
       "      <th>231</th>\n",
       "      <td>Lower</td>\n",
       "      <td>/mnt/c/Users/CARAL/Epiroc/Rig Crew - Private -...</td>\n",
       "      <td>2025-07-03T16:15:40+00:00</td>\n",
       "      <td>2025-07-03T16:51:06.090950+00:00</td>\n",
       "    </tr>\n",
       "    <tr>\n",
       "      <th>232</th>\n",
       "      <td>Lower</td>\n",
       "      <td>/mnt/c/Users/CARAL/Epiroc/Rig Crew - Private -...</td>\n",
       "      <td>2025-07-03T16:15:40+00:00</td>\n",
       "      <td>2025-07-03T16:58:31.439050+00:00</td>\n",
       "    </tr>\n",
       "    <tr>\n",
       "      <th>233</th>\n",
       "      <td>Lower</td>\n",
       "      <td>/mnt/c/Users/CARAL/Epiroc/Rig Crew - Private -...</td>\n",
       "      <td>2025-07-03T16:58:52+00:00</td>\n",
       "      <td>2025-07-03T16:59:59.963300+00:00</td>\n",
       "    </tr>\n",
       "    <tr>\n",
       "      <th>234</th>\n",
       "      <td>Lower</td>\n",
       "      <td>/mnt/c/Users/CARAL/Epiroc/Rig Crew - Private -...</td>\n",
       "      <td>2025-07-03T16:58:52+00:00</td>\n",
       "      <td>2025-07-03T17:07:22.600500+00:00</td>\n",
       "    </tr>\n",
       "    <tr>\n",
       "      <th>...</th>\n",
       "      <td>...</td>\n",
       "      <td>...</td>\n",
       "      <td>...</td>\n",
       "      <td>...</td>\n",
       "    </tr>\n",
       "    <tr>\n",
       "      <th>734</th>\n",
       "      <td>Upper</td>\n",
       "      <td>/mnt/c/Users/CARAL/Epiroc/Rig Crew - Private -...</td>\n",
       "      <td>2025-07-16T17:53:21+00:00</td>\n",
       "      <td>2025-07-16T17:57:38.647150+00:00</td>\n",
       "    </tr>\n",
       "    <tr>\n",
       "      <th>735</th>\n",
       "      <td>Upper</td>\n",
       "      <td>/mnt/c/Users/CARAL/Epiroc/Rig Crew - Private -...</td>\n",
       "      <td>2025-07-16T17:57:45+00:00</td>\n",
       "      <td>2025-07-16T17:59:59.372650+00:00</td>\n",
       "    </tr>\n",
       "    <tr>\n",
       "      <th>736</th>\n",
       "      <td>Upper</td>\n",
       "      <td>/mnt/c/Users/CARAL/Epiroc/Rig Crew - Private -...</td>\n",
       "      <td>2025-07-16T17:57:45+00:00</td>\n",
       "      <td>2025-07-16T18:03:48.200950+00:00</td>\n",
       "    </tr>\n",
       "    <tr>\n",
       "      <th>737</th>\n",
       "      <td>Upper</td>\n",
       "      <td>/mnt/c/Users/CARAL/Epiroc/Rig Crew - Private -...</td>\n",
       "      <td>2025-07-16T18:04:12+00:00</td>\n",
       "      <td>2025-07-16T18:10:21.469750+00:00</td>\n",
       "    </tr>\n",
       "    <tr>\n",
       "      <th>738</th>\n",
       "      <td>Upper</td>\n",
       "      <td>/mnt/c/Users/CARAL/Epiroc/Rig Crew - Private -...</td>\n",
       "      <td>2025-07-16T18:21:34+00:00</td>\n",
       "      <td>2025-07-16T18:28:09.375100+00:00</td>\n",
       "    </tr>\n",
       "  </tbody>\n",
       "</table>\n",
       "<p>320 rows × 4 columns</p>\n",
       "</div>"
      ],
      "text/plain": [
       "     Group                                               File  \\\n",
       "230  Lower  /mnt/c/Users/CARAL/Epiroc/Rig Crew - Private -...   \n",
       "231  Lower  /mnt/c/Users/CARAL/Epiroc/Rig Crew - Private -...   \n",
       "232  Lower  /mnt/c/Users/CARAL/Epiroc/Rig Crew - Private -...   \n",
       "233  Lower  /mnt/c/Users/CARAL/Epiroc/Rig Crew - Private -...   \n",
       "234  Lower  /mnt/c/Users/CARAL/Epiroc/Rig Crew - Private -...   \n",
       "..     ...                                                ...   \n",
       "734  Upper  /mnt/c/Users/CARAL/Epiroc/Rig Crew - Private -...   \n",
       "735  Upper  /mnt/c/Users/CARAL/Epiroc/Rig Crew - Private -...   \n",
       "736  Upper  /mnt/c/Users/CARAL/Epiroc/Rig Crew - Private -...   \n",
       "737  Upper  /mnt/c/Users/CARAL/Epiroc/Rig Crew - Private -...   \n",
       "738  Upper  /mnt/c/Users/CARAL/Epiroc/Rig Crew - Private -...   \n",
       "\n",
       "                    Start Time                          End Time  \n",
       "230  2025-07-03T16:15:40+00:00  2025-07-03T16:29:59.985800+00:00  \n",
       "231  2025-07-03T16:15:40+00:00  2025-07-03T16:51:06.090950+00:00  \n",
       "232  2025-07-03T16:15:40+00:00  2025-07-03T16:58:31.439050+00:00  \n",
       "233  2025-07-03T16:58:52+00:00  2025-07-03T16:59:59.963300+00:00  \n",
       "234  2025-07-03T16:58:52+00:00  2025-07-03T17:07:22.600500+00:00  \n",
       "..                         ...                               ...  \n",
       "734  2025-07-16T17:53:21+00:00  2025-07-16T17:57:38.647150+00:00  \n",
       "735  2025-07-16T17:57:45+00:00  2025-07-16T17:59:59.372650+00:00  \n",
       "736  2025-07-16T17:57:45+00:00  2025-07-16T18:03:48.200950+00:00  \n",
       "737  2025-07-16T18:04:12+00:00  2025-07-16T18:10:21.469750+00:00  \n",
       "738  2025-07-16T18:21:34+00:00  2025-07-16T18:28:09.375100+00:00  \n",
       "\n",
       "[320 rows x 4 columns]"
      ]
     },
     "execution_count": 29,
     "metadata": {},
     "output_type": "execute_result"
    }
   ],
   "source": [
    "df_subset = df[pd.to_datetime(df['End Time']) > pd.Timestamp('2025-07-03', tz='UTC')]\n",
    "df_subset"
   ]
  },
  {
   "cell_type": "code",
   "execution_count": 31,
   "id": "d31161a2",
   "metadata": {},
   "outputs": [
    {
     "data": {
      "text/plain": [
       "2956"
      ]
     },
     "execution_count": 31,
     "metadata": {},
     "output_type": "execute_result"
    }
   ],
   "source": [
    "df.size"
   ]
  },
  {
   "cell_type": "code",
   "execution_count": 32,
   "id": "e1a5e0ff",
   "metadata": {},
   "outputs": [
    {
     "data": {
      "text/plain": [
       "1280"
      ]
     },
     "execution_count": 32,
     "metadata": {},
     "output_type": "execute_result"
    }
   ],
   "source": [
    "df_subset.size"
   ]
  },
  {
   "cell_type": "code",
   "execution_count": 35,
   "id": "07e8dfc6",
   "metadata": {},
   "outputs": [
    {
     "data": {
      "text/plain": [
       "['C:/Users/CARAL/Epiroc/Rig Crew - Private - General/5. Testing/CANEdge/Lower/5A72CE4C/00001254/00000001.MF4',\n",
       " 'C:/Users/CARAL/Epiroc/Rig Crew - Private - General/5. Testing/CANEdge/Lower/5A72CE4C/00001254/00000002.MF4',\n",
       " 'C:/Users/CARAL/Epiroc/Rig Crew - Private - General/5. Testing/CANEdge/Lower/5A72CE4C/00001254/00000003.MF4',\n",
       " 'C:/Users/CARAL/Epiroc/Rig Crew - Private - General/5. Testing/CANEdge/Lower/5A72CE4C/00001255/00000001.MF4',\n",
       " 'C:/Users/CARAL/Epiroc/Rig Crew - Private - General/5. Testing/CANEdge/Lower/5A72CE4C/00001255/00000002.MF4',\n",
       " 'C:/Users/CARAL/Epiroc/Rig Crew - Private - General/5. Testing/CANEdge/Lower/5A72CE4C/00001256/00000001.MF4',\n",
       " 'C:/Users/CARAL/Epiroc/Rig Crew - Private - General/5. Testing/CANEdge/Lower/5A72CE4C/00001257/00000001.MF4',\n",
       " 'C:/Users/CARAL/Epiroc/Rig Crew - Private - General/5. Testing/CANEdge/Lower/5A72CE4C/00001257/00000002.MF4',\n",
       " 'C:/Users/CARAL/Epiroc/Rig Crew - Private - General/5. Testing/CANEdge/Lower/5A72CE4C/00001257/00000003.MF4',\n",
       " 'C:/Users/CARAL/Epiroc/Rig Crew - Private - General/5. Testing/CANEdge/Lower/5A72CE4C/00001257/00000004.MF4',\n",
       " 'C:/Users/CARAL/Epiroc/Rig Crew - Private - General/5. Testing/CANEdge/Lower/5A72CE4C/00001258/00000001.MF4',\n",
       " 'C:/Users/CARAL/Epiroc/Rig Crew - Private - General/5. Testing/CANEdge/Lower/5A72CE4C/00001259/00000001.MF4',\n",
       " 'C:/Users/CARAL/Epiroc/Rig Crew - Private - General/5. Testing/CANEdge/Lower/5A72CE4C/00001259/00000002.MF4',\n",
       " 'C:/Users/CARAL/Epiroc/Rig Crew - Private - General/5. Testing/CANEdge/Lower/5A72CE4C/00001260/00000001.MF4',\n",
       " 'C:/Users/CARAL/Epiroc/Rig Crew - Private - General/5. Testing/CANEdge/Lower/5A72CE4C/00001260/00000002.MF4',\n",
       " 'C:/Users/CARAL/Epiroc/Rig Crew - Private - General/5. Testing/CANEdge/Lower/5A72CE4C/00001260/00000003.MF4',\n",
       " 'C:/Users/CARAL/Epiroc/Rig Crew - Private - General/5. Testing/CANEdge/Lower/5A72CE4C/00001260/00000004.MF4',\n",
       " 'C:/Users/CARAL/Epiroc/Rig Crew - Private - General/5. Testing/CANEdge/Lower/5A72CE4C/00001261/00000001.MF4',\n",
       " 'C:/Users/CARAL/Epiroc/Rig Crew - Private - General/5. Testing/CANEdge/Lower/5A72CE4C/00001261/00000002.MF4',\n",
       " 'C:/Users/CARAL/Epiroc/Rig Crew - Private - General/5. Testing/CANEdge/Lower/5A72CE4C/00001262/00000001.MF4',\n",
       " 'C:/Users/CARAL/Epiroc/Rig Crew - Private - General/5. Testing/CANEdge/Lower/5A72CE4C/00001262/00000002.MF4',\n",
       " 'C:/Users/CARAL/Epiroc/Rig Crew - Private - General/5. Testing/CANEdge/Lower/5A72CE4C/00001262/00000003.MF4',\n",
       " 'C:/Users/CARAL/Epiroc/Rig Crew - Private - General/5. Testing/CANEdge/Lower/5A72CE4C/00001262/00000004.MF4',\n",
       " 'C:/Users/CARAL/Epiroc/Rig Crew - Private - General/5. Testing/CANEdge/Lower/5A72CE4C/00001262/00000005.MF4',\n",
       " 'C:/Users/CARAL/Epiroc/Rig Crew - Private - General/5. Testing/CANEdge/Lower/5A72CE4C/00001263/00000001.MF4',\n",
       " 'C:/Users/CARAL/Epiroc/Rig Crew - Private - General/5. Testing/CANEdge/Lower/5A72CE4C/00001263/00000002.MF4',\n",
       " 'C:/Users/CARAL/Epiroc/Rig Crew - Private - General/5. Testing/CANEdge/Lower/5A72CE4C/00001263/00000003.MF4',\n",
       " 'C:/Users/CARAL/Epiroc/Rig Crew - Private - General/5. Testing/CANEdge/Lower/5A72CE4C/00001263/00000004.MF4',\n",
       " 'C:/Users/CARAL/Epiroc/Rig Crew - Private - General/5. Testing/CANEdge/Lower/5A72CE4C/00001263/00000005.MF4',\n",
       " 'C:/Users/CARAL/Epiroc/Rig Crew - Private - General/5. Testing/CANEdge/Lower/5A72CE4C/00001263/00000006.MF4',\n",
       " 'C:/Users/CARAL/Epiroc/Rig Crew - Private - General/5. Testing/CANEdge/Lower/5A72CE4C/00001264/00000001.MF4',\n",
       " 'C:/Users/CARAL/Epiroc/Rig Crew - Private - General/5. Testing/CANEdge/Lower/5A72CE4C/00001264/00000002.MF4',\n",
       " 'C:/Users/CARAL/Epiroc/Rig Crew - Private - General/5. Testing/CANEdge/Lower/5A72CE4C/00001264/00000003.MF4',\n",
       " 'C:/Users/CARAL/Epiroc/Rig Crew - Private - General/5. Testing/CANEdge/Lower/5A72CE4C/00001264/00000004.MF4',\n",
       " 'C:/Users/CARAL/Epiroc/Rig Crew - Private - General/5. Testing/CANEdge/Lower/5A72CE4C/00001265/00000001.MF4',\n",
       " 'C:/Users/CARAL/Epiroc/Rig Crew - Private - General/5. Testing/CANEdge/Lower/5A72CE4C/00001266/00000001.MF4',\n",
       " 'C:/Users/CARAL/Epiroc/Rig Crew - Private - General/5. Testing/CANEdge/Lower/5A72CE4C/00001267/00000001.MF4',\n",
       " 'C:/Users/CARAL/Epiroc/Rig Crew - Private - General/5. Testing/CANEdge/Lower/5A72CE4C/00001268/00000001.MF4',\n",
       " 'C:/Users/CARAL/Epiroc/Rig Crew - Private - General/5. Testing/CANEdge/Lower/5A72CE4C/00001268/00000002.MF4',\n",
       " 'C:/Users/CARAL/Epiroc/Rig Crew - Private - General/5. Testing/CANEdge/Lower/5A72CE4C/00001268/00000003.MF4',\n",
       " 'C:/Users/CARAL/Epiroc/Rig Crew - Private - General/5. Testing/CANEdge/Lower/5A72CE4C/00001268/00000004.MF4',\n",
       " 'C:/Users/CARAL/Epiroc/Rig Crew - Private - General/5. Testing/CANEdge/Lower/5A72CE4C/00001268/00000005.MF4',\n",
       " 'C:/Users/CARAL/Epiroc/Rig Crew - Private - General/5. Testing/CANEdge/Lower/5A72CE4C/00001268/00000006.MF4',\n",
       " 'C:/Users/CARAL/Epiroc/Rig Crew - Private - General/5. Testing/CANEdge/Lower/5A72CE4C/00001268/00000007.MF4',\n",
       " 'C:/Users/CARAL/Epiroc/Rig Crew - Private - General/5. Testing/CANEdge/Lower/5A72CE4C/00001269/00000001.MF4',\n",
       " 'C:/Users/CARAL/Epiroc/Rig Crew - Private - General/5. Testing/CANEdge/Lower/5A72CE4C/00001269/00000002.MF4',\n",
       " 'C:/Users/CARAL/Epiroc/Rig Crew - Private - General/5. Testing/CANEdge/Lower/5A72CE4C/00001269/00000003.MF4',\n",
       " 'C:/Users/CARAL/Epiroc/Rig Crew - Private - General/5. Testing/CANEdge/Lower/5A72CE4C/00001269/00000004.MF4',\n",
       " 'C:/Users/CARAL/Epiroc/Rig Crew - Private - General/5. Testing/CANEdge/Lower/5A72CE4C/00001269/00000005.MF4',\n",
       " 'C:/Users/CARAL/Epiroc/Rig Crew - Private - General/5. Testing/CANEdge/Lower/5A72CE4C/00001269/00000006.MF4',\n",
       " 'C:/Users/CARAL/Epiroc/Rig Crew - Private - General/5. Testing/CANEdge/Lower/5A72CE4C/00001270/00000001.MF4',\n",
       " 'C:/Users/CARAL/Epiroc/Rig Crew - Private - General/5. Testing/CANEdge/Lower/5A72CE4C/00001270/00000002.MF4',\n",
       " 'C:/Users/CARAL/Epiroc/Rig Crew - Private - General/5. Testing/CANEdge/Lower/5A72CE4C/00001271/00000001.MF4',\n",
       " 'C:/Users/CARAL/Epiroc/Rig Crew - Private - General/5. Testing/CANEdge/Lower/5A72CE4C/00001271/00000002.MF4',\n",
       " 'C:/Users/CARAL/Epiroc/Rig Crew - Private - General/5. Testing/CANEdge/Lower/5A72CE4C/00001271/00000003.MF4',\n",
       " 'C:/Users/CARAL/Epiroc/Rig Crew - Private - General/5. Testing/CANEdge/Lower/5A72CE4C/00001271/00000004.MF4',\n",
       " 'C:/Users/CARAL/Epiroc/Rig Crew - Private - General/5. Testing/CANEdge/Lower/5A72CE4C/00001271/00000005.MF4',\n",
       " 'C:/Users/CARAL/Epiroc/Rig Crew - Private - General/5. Testing/CANEdge/Lower/5A72CE4C/00001271/00000006.MF4',\n",
       " 'C:/Users/CARAL/Epiroc/Rig Crew - Private - General/5. Testing/CANEdge/Lower/5A72CE4C/00001271/00000007.MF4',\n",
       " 'C:/Users/CARAL/Epiroc/Rig Crew - Private - General/5. Testing/CANEdge/Lower/5A72CE4C/00001271/00000008.MF4',\n",
       " 'C:/Users/CARAL/Epiroc/Rig Crew - Private - General/5. Testing/CANEdge/Lower/5A72CE4C/00001271/00000009.MF4',\n",
       " 'C:/Users/CARAL/Epiroc/Rig Crew - Private - General/5. Testing/CANEdge/Lower/5A72CE4C/00001271/00000010.MF4',\n",
       " 'C:/Users/CARAL/Epiroc/Rig Crew - Private - General/5. Testing/CANEdge/Lower/5A72CE4C/00001272/00000001.MF4',\n",
       " 'C:/Users/CARAL/Epiroc/Rig Crew - Private - General/5. Testing/CANEdge/Lower/5A72CE4C/00001272/00000002.MF4',\n",
       " 'C:/Users/CARAL/Epiroc/Rig Crew - Private - General/5. Testing/CANEdge/Lower/5A72CE4C/00001272/00000003.MF4',\n",
       " 'C:/Users/CARAL/Epiroc/Rig Crew - Private - General/5. Testing/CANEdge/Lower/5A72CE4C/00001272/00000004.MF4',\n",
       " 'C:/Users/CARAL/Epiroc/Rig Crew - Private - General/5. Testing/CANEdge/Lower/5A72CE4C/00001272/00000005.MF4',\n",
       " 'C:/Users/CARAL/Epiroc/Rig Crew - Private - General/5. Testing/CANEdge/Lower/5A72CE4C/00001273/00000001.MF4',\n",
       " 'C:/Users/CARAL/Epiroc/Rig Crew - Private - General/5. Testing/CANEdge/Lower/5A72CE4C/00001273/00000002.MF4',\n",
       " 'C:/Users/CARAL/Epiroc/Rig Crew - Private - General/5. Testing/CANEdge/Lower/5A72CE4C/00001273/00000003.MF4',\n",
       " 'C:/Users/CARAL/Epiroc/Rig Crew - Private - General/5. Testing/CANEdge/Lower/5A72CE4C/00001273/00000004.MF4',\n",
       " 'C:/Users/CARAL/Epiroc/Rig Crew - Private - General/5. Testing/CANEdge/Lower/5A72CE4C/00001273/00000005.MF4',\n",
       " 'C:/Users/CARAL/Epiroc/Rig Crew - Private - General/5. Testing/CANEdge/Lower/5A72CE4C/00001274/00000001.MF4',\n",
       " 'C:/Users/CARAL/Epiroc/Rig Crew - Private - General/5. Testing/CANEdge/Lower/5A72CE4C/00001274/00000002.MF4',\n",
       " 'C:/Users/CARAL/Epiroc/Rig Crew - Private - General/5. Testing/CANEdge/Lower/5A72CE4C/00001274/00000003.MF4',\n",
       " 'C:/Users/CARAL/Epiroc/Rig Crew - Private - General/5. Testing/CANEdge/Lower/5A72CE4C/00001274/00000004.MF4',\n",
       " 'C:/Users/CARAL/Epiroc/Rig Crew - Private - General/5. Testing/CANEdge/Lower/5A72CE4C/00001275/00000001.MF4',\n",
       " 'C:/Users/CARAL/Epiroc/Rig Crew - Private - General/5. Testing/CANEdge/Lower/5A72CE4C/00001275/00000002.MF4',\n",
       " 'C:/Users/CARAL/Epiroc/Rig Crew - Private - General/5. Testing/CANEdge/Lower/5A72CE4C/00001275/00000003.MF4',\n",
       " 'C:/Users/CARAL/Epiroc/Rig Crew - Private - General/5. Testing/CANEdge/Lower/5A72CE4C/00001276/00000001.MF4',\n",
       " 'C:/Users/CARAL/Epiroc/Rig Crew - Private - General/5. Testing/CANEdge/Lower/5A72CE4C/00001276/00000002.MF4',\n",
       " 'C:/Users/CARAL/Epiroc/Rig Crew - Private - General/5. Testing/CANEdge/Lower/5A72CE4C/00001277/00000001.MF4',\n",
       " 'C:/Users/CARAL/Epiroc/Rig Crew - Private - General/5. Testing/CANEdge/Lower/5A72CE4C/00001278/00000001.MF4',\n",
       " 'C:/Users/CARAL/Epiroc/Rig Crew - Private - General/5. Testing/CANEdge/Lower/5A72CE4C/00001279/00000001.MF4',\n",
       " 'C:/Users/CARAL/Epiroc/Rig Crew - Private - General/5. Testing/CANEdge/Lower/5A72CE4C/00001279/00000002.MF4',\n",
       " 'C:/Users/CARAL/Epiroc/Rig Crew - Private - General/5. Testing/CANEdge/Lower/5A72CE4C/00001279/00000003.MF4',\n",
       " 'C:/Users/CARAL/Epiroc/Rig Crew - Private - General/5. Testing/CANEdge/Lower/5A72CE4C/00001279/00000004.MF4',\n",
       " 'C:/Users/CARAL/Epiroc/Rig Crew - Private - General/5. Testing/CANEdge/Lower/5A72CE4C/00001279/00000005.MF4',\n",
       " 'C:/Users/CARAL/Epiroc/Rig Crew - Private - General/5. Testing/CANEdge/Lower/5A72CE4C/00001279/00000006.MF4',\n",
       " 'C:/Users/CARAL/Epiroc/Rig Crew - Private - General/5. Testing/CANEdge/Lower/5A72CE4C/00001279/00000007.MF4',\n",
       " 'C:/Users/CARAL/Epiroc/Rig Crew - Private - General/5. Testing/CANEdge/Lower/5A72CE4C/00001279/00000008.MF4',\n",
       " 'C:/Users/CARAL/Epiroc/Rig Crew - Private - General/5. Testing/CANEdge/Lower/5A72CE4C/00001280/00000001.MF4',\n",
       " 'C:/Users/CARAL/Epiroc/Rig Crew - Private - General/5. Testing/CANEdge/Lower/5A72CE4C/00001281/00000001.MF4',\n",
       " 'C:/Users/CARAL/Epiroc/Rig Crew - Private - General/5. Testing/CANEdge/Lower/5A72CE4C/00001281/00000002.MF4',\n",
       " 'C:/Users/CARAL/Epiroc/Rig Crew - Private - General/5. Testing/CANEdge/Lower/5A72CE4C/00001282/00000001.MF4',\n",
       " 'C:/Users/CARAL/Epiroc/Rig Crew - Private - General/5. Testing/CANEdge/Lower/5A72CE4C/00001283/00000001.MF4',\n",
       " 'C:/Users/CARAL/Epiroc/Rig Crew - Private - General/5. Testing/CANEdge/Lower/5A72CE4C/00001283/00000002.MF4',\n",
       " 'C:/Users/CARAL/Epiroc/Rig Crew - Private - General/5. Testing/CANEdge/Lower/5A72CE4C/00001283/00000003.MF4',\n",
       " 'C:/Users/CARAL/Epiroc/Rig Crew - Private - General/5. Testing/CANEdge/Lower/5A72CE4C/00001283/00000004.MF4',\n",
       " 'C:/Users/CARAL/Epiroc/Rig Crew - Private - General/5. Testing/CANEdge/Lower/5A72CE4C/00001283/00000005.MF4',\n",
       " 'C:/Users/CARAL/Epiroc/Rig Crew - Private - General/5. Testing/CANEdge/Lower/5A72CE4C/00001283/00000006.MF4',\n",
       " 'C:/Users/CARAL/Epiroc/Rig Crew - Private - General/5. Testing/CANEdge/Lower/5A72CE4C/00001283/00000007.MF4',\n",
       " 'C:/Users/CARAL/Epiroc/Rig Crew - Private - General/5. Testing/CANEdge/Lower/5A72CE4C/00001283/00000008.MF4',\n",
       " 'C:/Users/CARAL/Epiroc/Rig Crew - Private - General/5. Testing/CANEdge/Lower/5A72CE4C/00001284/00000001.MF4',\n",
       " 'C:/Users/CARAL/Epiroc/Rig Crew - Private - General/5. Testing/CANEdge/Lower/5A72CE4C/00001284/00000002.MF4',\n",
       " 'C:/Users/CARAL/Epiroc/Rig Crew - Private - General/5. Testing/CANEdge/Lower/5A72CE4C/00001284/00000003.MF4',\n",
       " 'C:/Users/CARAL/Epiroc/Rig Crew - Private - General/5. Testing/CANEdge/Lower/5A72CE4C/00001284/00000004.MF4',\n",
       " 'C:/Users/CARAL/Epiroc/Rig Crew - Private - General/5. Testing/CANEdge/Lower/5A72CE4C/00001284/00000005.MF4',\n",
       " 'C:/Users/CARAL/Epiroc/Rig Crew - Private - General/5. Testing/CANEdge/Lower/5A72CE4C/00001284/00000006.MF4',\n",
       " 'C:/Users/CARAL/Epiroc/Rig Crew - Private - General/5. Testing/CANEdge/Lower/5A72CE4C/00001285/00000001.MF4',\n",
       " 'C:/Users/CARAL/Epiroc/Rig Crew - Private - General/5. Testing/CANEdge/Lower/5A72CE4C/00001285/00000002.MF4',\n",
       " 'C:/Users/CARAL/Epiroc/Rig Crew - Private - General/5. Testing/CANEdge/Lower/5A72CE4C/00001285/00000003.MF4',\n",
       " 'C:/Users/CARAL/Epiroc/Rig Crew - Private - General/5. Testing/CANEdge/Lower/5A72CE4C/00001285/00000004.MF4',\n",
       " 'C:/Users/CARAL/Epiroc/Rig Crew - Private - General/5. Testing/CANEdge/Lower/5A72CE4C/00001286/00000001.MF4',\n",
       " 'C:/Users/CARAL/Epiroc/Rig Crew - Private - General/5. Testing/CANEdge/Lower/5A72CE4C/00001287/00000001.MF4',\n",
       " 'C:/Users/CARAL/Epiroc/Rig Crew - Private - General/5. Testing/CANEdge/Lower/5A72CE4C/00001287/00000002.MF4',\n",
       " 'C:/Users/CARAL/Epiroc/Rig Crew - Private - General/5. Testing/CANEdge/Lower/5A72CE4C/00001287/00000003.MF4',\n",
       " 'C:/Users/CARAL/Epiroc/Rig Crew - Private - General/5. Testing/CANEdge/Lower/5A72CE4C/00001287/00000004.MF4',\n",
       " 'C:/Users/CARAL/Epiroc/Rig Crew - Private - General/5. Testing/CANEdge/Lower/5A72CE4C/00001287/00000005.MF4',\n",
       " 'C:/Users/CARAL/Epiroc/Rig Crew - Private - General/5. Testing/CANEdge/Lower/5A72CE4C/00001287/00000006.MF4',\n",
       " 'C:/Users/CARAL/Epiroc/Rig Crew - Private - General/5. Testing/CANEdge/Lower/5A72CE4C/00001288/00000001.MF4',\n",
       " 'C:/Users/CARAL/Epiroc/Rig Crew - Private - General/5. Testing/CANEdge/Lower/5A72CE4C/00001288/00000002.MF4',\n",
       " 'C:/Users/CARAL/Epiroc/Rig Crew - Private - General/5. Testing/CANEdge/Lower/5A72CE4C/00001288/00000003.MF4',\n",
       " 'C:/Users/CARAL/Epiroc/Rig Crew - Private - General/5. Testing/CANEdge/Lower/5A72CE4C/00001288/00000004.MF4',\n",
       " 'C:/Users/CARAL/Epiroc/Rig Crew - Private - General/5. Testing/CANEdge/Lower/5A72CE4C/00001288/00000005.MF4',\n",
       " 'C:/Users/CARAL/Epiroc/Rig Crew - Private - General/5. Testing/CANEdge/Lower/5A72CE4C/00001288/00000006.MF4',\n",
       " 'C:/Users/CARAL/Epiroc/Rig Crew - Private - General/5. Testing/CANEdge/Lower/5A72CE4C/00001289/00000001.MF4',\n",
       " 'C:/Users/CARAL/Epiroc/Rig Crew - Private - General/5. Testing/CANEdge/Lower/5A72CE4C/00001290/00000001.MF4',\n",
       " 'C:/Users/CARAL/Epiroc/Rig Crew - Private - General/5. Testing/CANEdge/Lower/5A72CE4C/00001290/00000002.MF4',\n",
       " 'C:/Users/CARAL/Epiroc/Rig Crew - Private - General/5. Testing/CANEdge/Lower/5A72CE4C/00001290/00000003.MF4',\n",
       " 'C:/Users/CARAL/Epiroc/Rig Crew - Private - General/5. Testing/CANEdge/Lower/5A72CE4C/00001291/00000001.MF4',\n",
       " 'C:/Users/CARAL/Epiroc/Rig Crew - Private - General/5. Testing/CANEdge/Lower/5A72CE4C/00001291/00000002.MF4',\n",
       " 'C:/Users/CARAL/Epiroc/Rig Crew - Private - General/5. Testing/CANEdge/Lower/5A72CE4C/00001292/00000001.MF4',\n",
       " 'C:/Users/CARAL/Epiroc/Rig Crew - Private - General/5. Testing/CANEdge/Lower/5A72CE4C/00001293/00000001.MF4',\n",
       " 'C:/Users/CARAL/Epiroc/Rig Crew - Private - General/5. Testing/CANEdge/Lower/5A72CE4C/00001293/00000002.MF4',\n",
       " 'C:/Users/CARAL/Epiroc/Rig Crew - Private - General/5. Testing/CANEdge/Lower/5A72CE4C/00001293/00000003.MF4',\n",
       " 'C:/Users/CARAL/Epiroc/Rig Crew - Private - General/5. Testing/CANEdge/Lower/5A72CE4C/00001293/00000004.MF4',\n",
       " 'C:/Users/CARAL/Epiroc/Rig Crew - Private - General/5. Testing/CANEdge/Lower/5A72CE4C/00001293/00000005.MF4',\n",
       " 'C:/Users/CARAL/Epiroc/Rig Crew - Private - General/5. Testing/CANEdge/Lower/5A72CE4C/00001293/00000006.MF4',\n",
       " 'C:/Users/CARAL/Epiroc/Rig Crew - Private - General/5. Testing/CANEdge/Lower/5A72CE4C/00001293/00000007.MF4',\n",
       " 'C:/Users/CARAL/Epiroc/Rig Crew - Private - General/5. Testing/CANEdge/Lower/5A72CE4C/00001294/00000001.MF4',\n",
       " 'C:/Users/CARAL/Epiroc/Rig Crew - Private - General/5. Testing/CANEdge/Lower/5A72CE4C/00001294/00000002.MF4',\n",
       " 'C:/Users/CARAL/Epiroc/Rig Crew - Private - General/5. Testing/CANEdge/Lower/5A72CE4C/00001295/00000001.MF4',\n",
       " 'C:/Users/CARAL/Epiroc/Rig Crew - Private - General/5. Testing/CANEdge/Lower/5A72CE4C/00001295/00000002.MF4',\n",
       " 'C:/Users/CARAL/Epiroc/Rig Crew - Private - General/5. Testing/CANEdge/Lower/5A72CE4C/00001295/00000003.MF4',\n",
       " 'C:/Users/CARAL/Epiroc/Rig Crew - Private - General/5. Testing/CANEdge/Lower/5A72CE4C/00001297/00000001.MF4',\n",
       " 'C:/Users/CARAL/Epiroc/Rig Crew - Private - General/5. Testing/CANEdge/Lower/5A72CE4C/00001297/00000002.MF4',\n",
       " 'C:/Users/CARAL/Epiroc/Rig Crew - Private - General/5. Testing/CANEdge/Lower/5A72CE4C/00001298/00000001.MF4',\n",
       " 'C:/Users/CARAL/Epiroc/Rig Crew - Private - General/5. Testing/CANEdge/Lower/5A72CE4C/00001299/00000001.MF4',\n",
       " 'C:/Users/CARAL/Epiroc/Rig Crew - Private - General/5. Testing/CANEdge/Upper/6C1D6B77/00001099/00000001.MF4',\n",
       " 'C:/Users/CARAL/Epiroc/Rig Crew - Private - General/5. Testing/CANEdge/Upper/6C1D6B77/00001099/00000002.MF4',\n",
       " 'C:/Users/CARAL/Epiroc/Rig Crew - Private - General/5. Testing/CANEdge/Upper/6C1D6B77/00001099/00000003.MF4',\n",
       " 'C:/Users/CARAL/Epiroc/Rig Crew - Private - General/5. Testing/CANEdge/Upper/6C1D6B77/00001100/00000001.MF4',\n",
       " 'C:/Users/CARAL/Epiroc/Rig Crew - Private - General/5. Testing/CANEdge/Upper/6C1D6B77/00001100/00000002.MF4',\n",
       " 'C:/Users/CARAL/Epiroc/Rig Crew - Private - General/5. Testing/CANEdge/Upper/6C1D6B77/00001101/00000001.MF4',\n",
       " 'C:/Users/CARAL/Epiroc/Rig Crew - Private - General/5. Testing/CANEdge/Upper/6C1D6B77/00001102/00000001.MF4',\n",
       " 'C:/Users/CARAL/Epiroc/Rig Crew - Private - General/5. Testing/CANEdge/Upper/6C1D6B77/00001102/00000002.MF4',\n",
       " 'C:/Users/CARAL/Epiroc/Rig Crew - Private - General/5. Testing/CANEdge/Upper/6C1D6B77/00001102/00000003.MF4',\n",
       " 'C:/Users/CARAL/Epiroc/Rig Crew - Private - General/5. Testing/CANEdge/Upper/6C1D6B77/00001102/00000004.MF4',\n",
       " 'C:/Users/CARAL/Epiroc/Rig Crew - Private - General/5. Testing/CANEdge/Upper/6C1D6B77/00001103/00000001.MF4',\n",
       " 'C:/Users/CARAL/Epiroc/Rig Crew - Private - General/5. Testing/CANEdge/Upper/6C1D6B77/00001104/00000001.MF4',\n",
       " 'C:/Users/CARAL/Epiroc/Rig Crew - Private - General/5. Testing/CANEdge/Upper/6C1D6B77/00001104/00000002.MF4',\n",
       " 'C:/Users/CARAL/Epiroc/Rig Crew - Private - General/5. Testing/CANEdge/Upper/6C1D6B77/00001105/00000001.MF4',\n",
       " 'C:/Users/CARAL/Epiroc/Rig Crew - Private - General/5. Testing/CANEdge/Upper/6C1D6B77/00001105/00000002.MF4',\n",
       " 'C:/Users/CARAL/Epiroc/Rig Crew - Private - General/5. Testing/CANEdge/Upper/6C1D6B77/00001105/00000003.MF4',\n",
       " 'C:/Users/CARAL/Epiroc/Rig Crew - Private - General/5. Testing/CANEdge/Upper/6C1D6B77/00001106/00000001.MF4',\n",
       " 'C:/Users/CARAL/Epiroc/Rig Crew - Private - General/5. Testing/CANEdge/Upper/6C1D6B77/00001106/00000002.MF4',\n",
       " 'C:/Users/CARAL/Epiroc/Rig Crew - Private - General/5. Testing/CANEdge/Upper/6C1D6B77/00001107/00000001.MF4',\n",
       " 'C:/Users/CARAL/Epiroc/Rig Crew - Private - General/5. Testing/CANEdge/Upper/6C1D6B77/00001107/00000002.MF4',\n",
       " 'C:/Users/CARAL/Epiroc/Rig Crew - Private - General/5. Testing/CANEdge/Upper/6C1D6B77/00001107/00000003.MF4',\n",
       " 'C:/Users/CARAL/Epiroc/Rig Crew - Private - General/5. Testing/CANEdge/Upper/6C1D6B77/00001107/00000004.MF4',\n",
       " 'C:/Users/CARAL/Epiroc/Rig Crew - Private - General/5. Testing/CANEdge/Upper/6C1D6B77/00001107/00000005.MF4',\n",
       " 'C:/Users/CARAL/Epiroc/Rig Crew - Private - General/5. Testing/CANEdge/Upper/6C1D6B77/00001108/00000001.MF4',\n",
       " 'C:/Users/CARAL/Epiroc/Rig Crew - Private - General/5. Testing/CANEdge/Upper/6C1D6B77/00001108/00000002.MF4',\n",
       " 'C:/Users/CARAL/Epiroc/Rig Crew - Private - General/5. Testing/CANEdge/Upper/6C1D6B77/00001108/00000003.MF4',\n",
       " 'C:/Users/CARAL/Epiroc/Rig Crew - Private - General/5. Testing/CANEdge/Upper/6C1D6B77/00001108/00000004.MF4',\n",
       " 'C:/Users/CARAL/Epiroc/Rig Crew - Private - General/5. Testing/CANEdge/Upper/6C1D6B77/00001108/00000005.MF4',\n",
       " 'C:/Users/CARAL/Epiroc/Rig Crew - Private - General/5. Testing/CANEdge/Upper/6C1D6B77/00001108/00000006.MF4',\n",
       " 'C:/Users/CARAL/Epiroc/Rig Crew - Private - General/5. Testing/CANEdge/Upper/6C1D6B77/00001109/00000001.MF4',\n",
       " 'C:/Users/CARAL/Epiroc/Rig Crew - Private - General/5. Testing/CANEdge/Upper/6C1D6B77/00001109/00000002.MF4',\n",
       " 'C:/Users/CARAL/Epiroc/Rig Crew - Private - General/5. Testing/CANEdge/Upper/6C1D6B77/00001109/00000003.MF4',\n",
       " 'C:/Users/CARAL/Epiroc/Rig Crew - Private - General/5. Testing/CANEdge/Upper/6C1D6B77/00001109/00000004.MF4',\n",
       " 'C:/Users/CARAL/Epiroc/Rig Crew - Private - General/5. Testing/CANEdge/Upper/6C1D6B77/00001110/00000001.MF4',\n",
       " 'C:/Users/CARAL/Epiroc/Rig Crew - Private - General/5. Testing/CANEdge/Upper/6C1D6B77/00001111/00000001.MF4',\n",
       " 'C:/Users/CARAL/Epiroc/Rig Crew - Private - General/5. Testing/CANEdge/Upper/6C1D6B77/00001112/00000001.MF4',\n",
       " 'C:/Users/CARAL/Epiroc/Rig Crew - Private - General/5. Testing/CANEdge/Upper/6C1D6B77/00001113/00000001.MF4',\n",
       " 'C:/Users/CARAL/Epiroc/Rig Crew - Private - General/5. Testing/CANEdge/Upper/6C1D6B77/00001113/00000002.MF4',\n",
       " 'C:/Users/CARAL/Epiroc/Rig Crew - Private - General/5. Testing/CANEdge/Upper/6C1D6B77/00001113/00000003.MF4',\n",
       " 'C:/Users/CARAL/Epiroc/Rig Crew - Private - General/5. Testing/CANEdge/Upper/6C1D6B77/00001113/00000004.MF4',\n",
       " 'C:/Users/CARAL/Epiroc/Rig Crew - Private - General/5. Testing/CANEdge/Upper/6C1D6B77/00001113/00000005.MF4',\n",
       " 'C:/Users/CARAL/Epiroc/Rig Crew - Private - General/5. Testing/CANEdge/Upper/6C1D6B77/00001113/00000006.MF4',\n",
       " 'C:/Users/CARAL/Epiroc/Rig Crew - Private - General/5. Testing/CANEdge/Upper/6C1D6B77/00001113/00000007.MF4',\n",
       " 'C:/Users/CARAL/Epiroc/Rig Crew - Private - General/5. Testing/CANEdge/Upper/6C1D6B77/00001114/00000001.MF4',\n",
       " 'C:/Users/CARAL/Epiroc/Rig Crew - Private - General/5. Testing/CANEdge/Upper/6C1D6B77/00001114/00000002.MF4',\n",
       " 'C:/Users/CARAL/Epiroc/Rig Crew - Private - General/5. Testing/CANEdge/Upper/6C1D6B77/00001114/00000003.MF4',\n",
       " 'C:/Users/CARAL/Epiroc/Rig Crew - Private - General/5. Testing/CANEdge/Upper/6C1D6B77/00001114/00000004.MF4',\n",
       " 'C:/Users/CARAL/Epiroc/Rig Crew - Private - General/5. Testing/CANEdge/Upper/6C1D6B77/00001114/00000005.MF4',\n",
       " 'C:/Users/CARAL/Epiroc/Rig Crew - Private - General/5. Testing/CANEdge/Upper/6C1D6B77/00001114/00000006.MF4',\n",
       " 'C:/Users/CARAL/Epiroc/Rig Crew - Private - General/5. Testing/CANEdge/Upper/6C1D6B77/00001114/00000007.MF4',\n",
       " 'C:/Users/CARAL/Epiroc/Rig Crew - Private - General/5. Testing/CANEdge/Upper/6C1D6B77/00001114/00000008.MF4',\n",
       " 'C:/Users/CARAL/Epiroc/Rig Crew - Private - General/5. Testing/CANEdge/Upper/6C1D6B77/00001115/00000001.MF4',\n",
       " 'C:/Users/CARAL/Epiroc/Rig Crew - Private - General/5. Testing/CANEdge/Upper/6C1D6B77/00001115/00000002.MF4',\n",
       " 'C:/Users/CARAL/Epiroc/Rig Crew - Private - General/5. Testing/CANEdge/Upper/6C1D6B77/00001116/00000001.MF4',\n",
       " 'C:/Users/CARAL/Epiroc/Rig Crew - Private - General/5. Testing/CANEdge/Upper/6C1D6B77/00001116/00000002.MF4',\n",
       " 'C:/Users/CARAL/Epiroc/Rig Crew - Private - General/5. Testing/CANEdge/Upper/6C1D6B77/00001116/00000003.MF4',\n",
       " 'C:/Users/CARAL/Epiroc/Rig Crew - Private - General/5. Testing/CANEdge/Upper/6C1D6B77/00001116/00000004.MF4',\n",
       " 'C:/Users/CARAL/Epiroc/Rig Crew - Private - General/5. Testing/CANEdge/Upper/6C1D6B77/00001116/00000005.MF4',\n",
       " 'C:/Users/CARAL/Epiroc/Rig Crew - Private - General/5. Testing/CANEdge/Upper/6C1D6B77/00001116/00000006.MF4',\n",
       " 'C:/Users/CARAL/Epiroc/Rig Crew - Private - General/5. Testing/CANEdge/Upper/6C1D6B77/00001116/00000007.MF4',\n",
       " 'C:/Users/CARAL/Epiroc/Rig Crew - Private - General/5. Testing/CANEdge/Upper/6C1D6B77/00001116/00000008.MF4',\n",
       " 'C:/Users/CARAL/Epiroc/Rig Crew - Private - General/5. Testing/CANEdge/Upper/6C1D6B77/00001116/00000009.MF4',\n",
       " 'C:/Users/CARAL/Epiroc/Rig Crew - Private - General/5. Testing/CANEdge/Upper/6C1D6B77/00001116/00000010.MF4',\n",
       " 'C:/Users/CARAL/Epiroc/Rig Crew - Private - General/5. Testing/CANEdge/Upper/6C1D6B77/00001116/00000011.MF4',\n",
       " 'C:/Users/CARAL/Epiroc/Rig Crew - Private - General/5. Testing/CANEdge/Upper/6C1D6B77/00001116/00000012.MF4',\n",
       " 'C:/Users/CARAL/Epiroc/Rig Crew - Private - General/5. Testing/CANEdge/Upper/6C1D6B77/00001117/00000001.MF4',\n",
       " 'C:/Users/CARAL/Epiroc/Rig Crew - Private - General/5. Testing/CANEdge/Upper/6C1D6B77/00001117/00000002.MF4',\n",
       " 'C:/Users/CARAL/Epiroc/Rig Crew - Private - General/5. Testing/CANEdge/Upper/6C1D6B77/00001117/00000003.MF4',\n",
       " 'C:/Users/CARAL/Epiroc/Rig Crew - Private - General/5. Testing/CANEdge/Upper/6C1D6B77/00001117/00000004.MF4',\n",
       " 'C:/Users/CARAL/Epiroc/Rig Crew - Private - General/5. Testing/CANEdge/Upper/6C1D6B77/00001117/00000005.MF4',\n",
       " 'C:/Users/CARAL/Epiroc/Rig Crew - Private - General/5. Testing/CANEdge/Upper/6C1D6B77/00001117/00000006.MF4',\n",
       " 'C:/Users/CARAL/Epiroc/Rig Crew - Private - General/5. Testing/CANEdge/Upper/6C1D6B77/00001117/00000007.MF4',\n",
       " 'C:/Users/CARAL/Epiroc/Rig Crew - Private - General/5. Testing/CANEdge/Upper/6C1D6B77/00001118/00000001.MF4',\n",
       " 'C:/Users/CARAL/Epiroc/Rig Crew - Private - General/5. Testing/CANEdge/Upper/6C1D6B77/00001118/00000002.MF4',\n",
       " 'C:/Users/CARAL/Epiroc/Rig Crew - Private - General/5. Testing/CANEdge/Upper/6C1D6B77/00001118/00000003.MF4',\n",
       " 'C:/Users/CARAL/Epiroc/Rig Crew - Private - General/5. Testing/CANEdge/Upper/6C1D6B77/00001118/00000004.MF4',\n",
       " 'C:/Users/CARAL/Epiroc/Rig Crew - Private - General/5. Testing/CANEdge/Upper/6C1D6B77/00001118/00000005.MF4',\n",
       " 'C:/Users/CARAL/Epiroc/Rig Crew - Private - General/5. Testing/CANEdge/Upper/6C1D6B77/00001119/00000001.MF4',\n",
       " 'C:/Users/CARAL/Epiroc/Rig Crew - Private - General/5. Testing/CANEdge/Upper/6C1D6B77/00001119/00000002.MF4',\n",
       " 'C:/Users/CARAL/Epiroc/Rig Crew - Private - General/5. Testing/CANEdge/Upper/6C1D6B77/00001119/00000003.MF4',\n",
       " 'C:/Users/CARAL/Epiroc/Rig Crew - Private - General/5. Testing/CANEdge/Upper/6C1D6B77/00001119/00000004.MF4',\n",
       " 'C:/Users/CARAL/Epiroc/Rig Crew - Private - General/5. Testing/CANEdge/Upper/6C1D6B77/00001119/00000005.MF4',\n",
       " 'C:/Users/CARAL/Epiroc/Rig Crew - Private - General/5. Testing/CANEdge/Upper/6C1D6B77/00001120/00000001.MF4',\n",
       " 'C:/Users/CARAL/Epiroc/Rig Crew - Private - General/5. Testing/CANEdge/Upper/6C1D6B77/00001120/00000002.MF4',\n",
       " 'C:/Users/CARAL/Epiroc/Rig Crew - Private - General/5. Testing/CANEdge/Upper/6C1D6B77/00001120/00000003.MF4',\n",
       " 'C:/Users/CARAL/Epiroc/Rig Crew - Private - General/5. Testing/CANEdge/Upper/6C1D6B77/00001120/00000004.MF4',\n",
       " 'C:/Users/CARAL/Epiroc/Rig Crew - Private - General/5. Testing/CANEdge/Upper/6C1D6B77/00001121/00000001.MF4',\n",
       " 'C:/Users/CARAL/Epiroc/Rig Crew - Private - General/5. Testing/CANEdge/Upper/6C1D6B77/00001121/00000002.MF4',\n",
       " 'C:/Users/CARAL/Epiroc/Rig Crew - Private - General/5. Testing/CANEdge/Upper/6C1D6B77/00001122/00000001.MF4',\n",
       " 'C:/Users/CARAL/Epiroc/Rig Crew - Private - General/5. Testing/CANEdge/Upper/6C1D6B77/00001123/00000001.MF4',\n",
       " 'C:/Users/CARAL/Epiroc/Rig Crew - Private - General/5. Testing/CANEdge/Upper/6C1D6B77/00001124/00000001.MF4',\n",
       " 'C:/Users/CARAL/Epiroc/Rig Crew - Private - General/5. Testing/CANEdge/Upper/6C1D6B77/00001124/00000002.MF4',\n",
       " 'C:/Users/CARAL/Epiroc/Rig Crew - Private - General/5. Testing/CANEdge/Upper/6C1D6B77/00001124/00000003.MF4',\n",
       " 'C:/Users/CARAL/Epiroc/Rig Crew - Private - General/5. Testing/CANEdge/Upper/6C1D6B77/00001124/00000004.MF4',\n",
       " 'C:/Users/CARAL/Epiroc/Rig Crew - Private - General/5. Testing/CANEdge/Upper/6C1D6B77/00001124/00000005.MF4',\n",
       " 'C:/Users/CARAL/Epiroc/Rig Crew - Private - General/5. Testing/CANEdge/Upper/6C1D6B77/00001124/00000006.MF4',\n",
       " 'C:/Users/CARAL/Epiroc/Rig Crew - Private - General/5. Testing/CANEdge/Upper/6C1D6B77/00001124/00000007.MF4',\n",
       " 'C:/Users/CARAL/Epiroc/Rig Crew - Private - General/5. Testing/CANEdge/Upper/6C1D6B77/00001124/00000008.MF4',\n",
       " 'C:/Users/CARAL/Epiroc/Rig Crew - Private - General/5. Testing/CANEdge/Upper/6C1D6B77/00001124/00000009.MF4',\n",
       " 'C:/Users/CARAL/Epiroc/Rig Crew - Private - General/5. Testing/CANEdge/Upper/6C1D6B77/00001124/00000010.MF4',\n",
       " 'C:/Users/CARAL/Epiroc/Rig Crew - Private - General/5. Testing/CANEdge/Upper/6C1D6B77/00001125/00000001.MF4',\n",
       " 'C:/Users/CARAL/Epiroc/Rig Crew - Private - General/5. Testing/CANEdge/Upper/6C1D6B77/00001126/00000001.MF4',\n",
       " 'C:/Users/CARAL/Epiroc/Rig Crew - Private - General/5. Testing/CANEdge/Upper/6C1D6B77/00001126/00000002.MF4',\n",
       " 'C:/Users/CARAL/Epiroc/Rig Crew - Private - General/5. Testing/CANEdge/Upper/6C1D6B77/00001127/00000001.MF4',\n",
       " 'C:/Users/CARAL/Epiroc/Rig Crew - Private - General/5. Testing/CANEdge/Upper/6C1D6B77/00001128/00000001.MF4',\n",
       " 'C:/Users/CARAL/Epiroc/Rig Crew - Private - General/5. Testing/CANEdge/Upper/6C1D6B77/00001128/00000002.MF4',\n",
       " 'C:/Users/CARAL/Epiroc/Rig Crew - Private - General/5. Testing/CANEdge/Upper/6C1D6B77/00001128/00000003.MF4',\n",
       " 'C:/Users/CARAL/Epiroc/Rig Crew - Private - General/5. Testing/CANEdge/Upper/6C1D6B77/00001128/00000004.MF4',\n",
       " 'C:/Users/CARAL/Epiroc/Rig Crew - Private - General/5. Testing/CANEdge/Upper/6C1D6B77/00001128/00000005.MF4',\n",
       " 'C:/Users/CARAL/Epiroc/Rig Crew - Private - General/5. Testing/CANEdge/Upper/6C1D6B77/00001128/00000006.MF4',\n",
       " 'C:/Users/CARAL/Epiroc/Rig Crew - Private - General/5. Testing/CANEdge/Upper/6C1D6B77/00001128/00000007.MF4',\n",
       " 'C:/Users/CARAL/Epiroc/Rig Crew - Private - General/5. Testing/CANEdge/Upper/6C1D6B77/00001128/00000008.MF4',\n",
       " 'C:/Users/CARAL/Epiroc/Rig Crew - Private - General/5. Testing/CANEdge/Upper/6C1D6B77/00001128/00000009.MF4',\n",
       " 'C:/Users/CARAL/Epiroc/Rig Crew - Private - General/5. Testing/CANEdge/Upper/6C1D6B77/00001128/00000010.MF4',\n",
       " 'C:/Users/CARAL/Epiroc/Rig Crew - Private - General/5. Testing/CANEdge/Upper/6C1D6B77/00001129/00000001.MF4',\n",
       " 'C:/Users/CARAL/Epiroc/Rig Crew - Private - General/5. Testing/CANEdge/Upper/6C1D6B77/00001129/00000002.MF4',\n",
       " 'C:/Users/CARAL/Epiroc/Rig Crew - Private - General/5. Testing/CANEdge/Upper/6C1D6B77/00001129/00000003.MF4',\n",
       " 'C:/Users/CARAL/Epiroc/Rig Crew - Private - General/5. Testing/CANEdge/Upper/6C1D6B77/00001129/00000004.MF4',\n",
       " 'C:/Users/CARAL/Epiroc/Rig Crew - Private - General/5. Testing/CANEdge/Upper/6C1D6B77/00001129/00000005.MF4',\n",
       " 'C:/Users/CARAL/Epiroc/Rig Crew - Private - General/5. Testing/CANEdge/Upper/6C1D6B77/00001129/00000006.MF4',\n",
       " 'C:/Users/CARAL/Epiroc/Rig Crew - Private - General/5. Testing/CANEdge/Upper/6C1D6B77/00001129/00000007.MF4',\n",
       " 'C:/Users/CARAL/Epiroc/Rig Crew - Private - General/5. Testing/CANEdge/Upper/6C1D6B77/00001129/00000008.MF4',\n",
       " 'C:/Users/CARAL/Epiroc/Rig Crew - Private - General/5. Testing/CANEdge/Upper/6C1D6B77/00001129/00000009.MF4',\n",
       " 'C:/Users/CARAL/Epiroc/Rig Crew - Private - General/5. Testing/CANEdge/Upper/6C1D6B77/00001130/00000001.MF4',\n",
       " 'C:/Users/CARAL/Epiroc/Rig Crew - Private - General/5. Testing/CANEdge/Upper/6C1D6B77/00001130/00000002.MF4',\n",
       " 'C:/Users/CARAL/Epiroc/Rig Crew - Private - General/5. Testing/CANEdge/Upper/6C1D6B77/00001130/00000003.MF4',\n",
       " 'C:/Users/CARAL/Epiroc/Rig Crew - Private - General/5. Testing/CANEdge/Upper/6C1D6B77/00001130/00000004.MF4',\n",
       " 'C:/Users/CARAL/Epiroc/Rig Crew - Private - General/5. Testing/CANEdge/Upper/6C1D6B77/00001131/00000001.MF4',\n",
       " 'C:/Users/CARAL/Epiroc/Rig Crew - Private - General/5. Testing/CANEdge/Upper/6C1D6B77/00001132/00000001.MF4',\n",
       " 'C:/Users/CARAL/Epiroc/Rig Crew - Private - General/5. Testing/CANEdge/Upper/6C1D6B77/00001132/00000002.MF4',\n",
       " 'C:/Users/CARAL/Epiroc/Rig Crew - Private - General/5. Testing/CANEdge/Upper/6C1D6B77/00001132/00000003.MF4',\n",
       " 'C:/Users/CARAL/Epiroc/Rig Crew - Private - General/5. Testing/CANEdge/Upper/6C1D6B77/00001132/00000004.MF4',\n",
       " 'C:/Users/CARAL/Epiroc/Rig Crew - Private - General/5. Testing/CANEdge/Upper/6C1D6B77/00001132/00000005.MF4',\n",
       " 'C:/Users/CARAL/Epiroc/Rig Crew - Private - General/5. Testing/CANEdge/Upper/6C1D6B77/00001132/00000006.MF4',\n",
       " 'C:/Users/CARAL/Epiroc/Rig Crew - Private - General/5. Testing/CANEdge/Upper/6C1D6B77/00001132/00000007.MF4',\n",
       " 'C:/Users/CARAL/Epiroc/Rig Crew - Private - General/5. Testing/CANEdge/Upper/6C1D6B77/00001132/00000008.MF4',\n",
       " 'C:/Users/CARAL/Epiroc/Rig Crew - Private - General/5. Testing/CANEdge/Upper/6C1D6B77/00001133/00000001.MF4',\n",
       " 'C:/Users/CARAL/Epiroc/Rig Crew - Private - General/5. Testing/CANEdge/Upper/6C1D6B77/00001133/00000002.MF4',\n",
       " 'C:/Users/CARAL/Epiroc/Rig Crew - Private - General/5. Testing/CANEdge/Upper/6C1D6B77/00001133/00000003.MF4',\n",
       " 'C:/Users/CARAL/Epiroc/Rig Crew - Private - General/5. Testing/CANEdge/Upper/6C1D6B77/00001133/00000004.MF4',\n",
       " 'C:/Users/CARAL/Epiroc/Rig Crew - Private - General/5. Testing/CANEdge/Upper/6C1D6B77/00001133/00000005.MF4',\n",
       " 'C:/Users/CARAL/Epiroc/Rig Crew - Private - General/5. Testing/CANEdge/Upper/6C1D6B77/00001133/00000006.MF4',\n",
       " 'C:/Users/CARAL/Epiroc/Rig Crew - Private - General/5. Testing/CANEdge/Upper/6C1D6B77/00001133/00000007.MF4',\n",
       " 'C:/Users/CARAL/Epiroc/Rig Crew - Private - General/5. Testing/CANEdge/Upper/6C1D6B77/00001133/00000008.MF4',\n",
       " 'C:/Users/CARAL/Epiroc/Rig Crew - Private - General/5. Testing/CANEdge/Upper/6C1D6B77/00001134/00000001.MF4',\n",
       " 'C:/Users/CARAL/Epiroc/Rig Crew - Private - General/5. Testing/CANEdge/Upper/6C1D6B77/00001135/00000001.MF4',\n",
       " 'C:/Users/CARAL/Epiroc/Rig Crew - Private - General/5. Testing/CANEdge/Upper/6C1D6B77/00001135/00000002.MF4',\n",
       " 'C:/Users/CARAL/Epiroc/Rig Crew - Private - General/5. Testing/CANEdge/Upper/6C1D6B77/00001135/00000003.MF4',\n",
       " 'C:/Users/CARAL/Epiroc/Rig Crew - Private - General/5. Testing/CANEdge/Upper/6C1D6B77/00001136/00000001.MF4',\n",
       " 'C:/Users/CARAL/Epiroc/Rig Crew - Private - General/5. Testing/CANEdge/Upper/6C1D6B77/00001136/00000002.MF4',\n",
       " 'C:/Users/CARAL/Epiroc/Rig Crew - Private - General/5. Testing/CANEdge/Upper/6C1D6B77/00001136/00000003.MF4',\n",
       " 'C:/Users/CARAL/Epiroc/Rig Crew - Private - General/5. Testing/CANEdge/Upper/6C1D6B77/00001137/00000001.MF4',\n",
       " 'C:/Users/CARAL/Epiroc/Rig Crew - Private - General/5. Testing/CANEdge/Upper/6C1D6B77/00001138/00000001.MF4',\n",
       " 'C:/Users/CARAL/Epiroc/Rig Crew - Private - General/5. Testing/CANEdge/Upper/6C1D6B77/00001138/00000002.MF4',\n",
       " 'C:/Users/CARAL/Epiroc/Rig Crew - Private - General/5. Testing/CANEdge/Upper/6C1D6B77/00001138/00000003.MF4',\n",
       " 'C:/Users/CARAL/Epiroc/Rig Crew - Private - General/5. Testing/CANEdge/Upper/6C1D6B77/00001138/00000004.MF4',\n",
       " 'C:/Users/CARAL/Epiroc/Rig Crew - Private - General/5. Testing/CANEdge/Upper/6C1D6B77/00001138/00000005.MF4',\n",
       " 'C:/Users/CARAL/Epiroc/Rig Crew - Private - General/5. Testing/CANEdge/Upper/6C1D6B77/00001138/00000006.MF4',\n",
       " 'C:/Users/CARAL/Epiroc/Rig Crew - Private - General/5. Testing/CANEdge/Upper/6C1D6B77/00001138/00000007.MF4',\n",
       " 'C:/Users/CARAL/Epiroc/Rig Crew - Private - General/5. Testing/CANEdge/Upper/6C1D6B77/00001138/00000008.MF4',\n",
       " 'C:/Users/CARAL/Epiroc/Rig Crew - Private - General/5. Testing/CANEdge/Upper/6C1D6B77/00001139/00000001.MF4',\n",
       " 'C:/Users/CARAL/Epiroc/Rig Crew - Private - General/5. Testing/CANEdge/Upper/6C1D6B77/00001139/00000002.MF4',\n",
       " 'C:/Users/CARAL/Epiroc/Rig Crew - Private - General/5. Testing/CANEdge/Upper/6C1D6B77/00001140/00000001.MF4',\n",
       " 'C:/Users/CARAL/Epiroc/Rig Crew - Private - General/5. Testing/CANEdge/Upper/6C1D6B77/00001140/00000002.MF4',\n",
       " 'C:/Users/CARAL/Epiroc/Rig Crew - Private - General/5. Testing/CANEdge/Upper/6C1D6B77/00001140/00000003.MF4',\n",
       " 'C:/Users/CARAL/Epiroc/Rig Crew - Private - General/5. Testing/CANEdge/Upper/6C1D6B77/00001140/00000004.MF4',\n",
       " 'C:/Users/CARAL/Epiroc/Rig Crew - Private - General/5. Testing/CANEdge/Upper/6C1D6B77/00001141/00000001.MF4',\n",
       " 'C:/Users/CARAL/Epiroc/Rig Crew - Private - General/5. Testing/CANEdge/Upper/6C1D6B77/00001142/00000001.MF4',\n",
       " 'C:/Users/CARAL/Epiroc/Rig Crew - Private - General/5. Testing/CANEdge/Upper/6C1D6B77/00001142/00000002.MF4',\n",
       " 'C:/Users/CARAL/Epiroc/Rig Crew - Private - General/5. Testing/CANEdge/Upper/6C1D6B77/00001143/00000001.MF4',\n",
       " 'C:/Users/CARAL/Epiroc/Rig Crew - Private - General/5. Testing/CANEdge/Upper/6C1D6B77/00001144/00000001.MF4']"
      ]
     },
     "execution_count": 35,
     "metadata": {},
     "output_type": "execute_result"
    }
   ],
   "source": [
    "[file if os.name == 'posix' else file.replace('/mnt/c/','C:/') for file in df_subset['File']]"
   ]
  },
  {
   "cell_type": "code",
   "execution_count": null,
   "id": "e179ef3a",
   "metadata": {},
   "outputs": [],
   "source": []
  }
 ],
 "metadata": {
  "kernelspec": {
   "display_name": "venv",
   "language": "python",
   "name": "python3"
  },
  "language_info": {
   "codemirror_mode": {
    "name": "ipython",
    "version": 3
   },
   "file_extension": ".py",
   "mimetype": "text/x-python",
   "name": "python",
   "nbconvert_exporter": "python",
   "pygments_lexer": "ipython3",
   "version": "3.10.11"
  }
 },
 "nbformat": 4,
 "nbformat_minor": 5
}
