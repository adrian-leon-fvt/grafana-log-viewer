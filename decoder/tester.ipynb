{
 "cells": [
  {
   "cell_type": "code",
   "execution_count": 39,
   "id": "45fa31c2",
   "metadata": {},
   "outputs": [
    {
     "name": "stdout",
     "output_type": "stream",
     "text": [
      "Found 225 MF4 files in the current directory and subdirectories.\n"
     ]
    }
   ],
   "source": [
    "from asammdf import MDF, Signal\n",
    "from asammdf.blocks.types import DbcFileType, BusType, StrPath\n",
    "from pathlib import Path\n",
    "import requests\n",
    "from datetime import datetime, timedelta\n",
    "from time import sleep\n",
    "import json\n",
    "from collections.abc import Iterable\n",
    "from collections import defaultdict\n",
    "\n",
    "_path = Path('../files/upper')\n",
    "files = list(_path.rglob('*.[mM][fF]4'))\n",
    "print(f'Found {len(files)} MF4 files in the current directory and subdirectories.')"
   ]
  },
  {
   "cell_type": "code",
   "execution_count": 40,
   "id": "317eca40",
   "metadata": {},
   "outputs": [],
   "source": [
    "def get_dbc_files(directory: Path | str) -> list[StrPath]:\n",
    "    \"\"\"\n",
    "    Get all DBC files in the specified directory.\n",
    "    \"\"\"\n",
    "\n",
    "    if not isinstance(directory, Path):\n",
    "        directory = Path(directory)\n",
    "\n",
    "    return list(directory.rglob(\"*.[dD][bB][cC]\"))\n",
    "\n",
    "def get_dbc_dict(directory: Path | str) -> dict[BusType, Iterable[DbcFileType]]:\n",
    "    \"\"\"\n",
    "    Get a dictionary of DBC files in the specified directory.\n",
    "    This dictionary can be passed directly to extract_bus_logging() in asammdf.\n",
    "    \"\"\"\n",
    "\n",
    "    dbc_files = get_dbc_files(directory)\n",
    "    return {\"CAN\": [(file, 0) for file in dbc_files]}\n"
   ]
  },
  {
   "cell_type": "code",
   "execution_count": 24,
   "id": "56e2b6dd",
   "metadata": {},
   "outputs": [],
   "source": [
    "file_dates = {}\n",
    "def processing(x: int, y: int):\n",
    "    print(f' => Processing: {100*x/y:>4.1f}%', flush=True, end='\\r')"
   ]
  },
  {
   "cell_type": "code",
   "execution_count": 25,
   "id": "4373f67a",
   "metadata": {},
   "outputs": [
    {
     "name": "stdout",
     "output_type": "stream",
     "text": [
      " => Processing ../files/upper/data/00001085/00000004.MF4 complete\n",
      " => Processing ../files/upper/data/00001085/00000005.MF4 complete\n"
     ]
    }
   ],
   "source": [
    "for f in files[:2]:\n",
    "    mdf = MDF(f, process_bus_logging=False, progress=processing)\n",
    "    print(f\" => Processing {f} complete\", flush=True)\n",
    "    local_date = mdf.start_time.astimezone(datetime.now().astimezone().tzinfo).date()\n",
    "    local_date_str = local_date.strftime('%Y_%m_%d')\n",
    "    if local_date_str not in file_dates:\n",
    "        file_dates[local_date_str] = []\n",
    "    file_dates[local_date_str].append(mdf)"
   ]
  },
  {
   "cell_type": "code",
   "execution_count": 41,
   "id": "4c5ce9bc",
   "metadata": {},
   "outputs": [],
   "source": [
    "concatenated = MDF().concatenate(list(file_dates.values())[0], process_bus_logging=False)\n",
    "decoded = concatenated.extract_bus_logging(database_files=get_dbc_dict('../files/upper'))"
   ]
  },
  {
   "cell_type": "code",
   "execution_count": 46,
   "id": "c4b79ee5",
   "metadata": {},
   "outputs": [
    {
     "data": {
      "text/plain": [
       "['HYD_Motor_Speed',\n",
       " 'CAN2.HYD_Motor_Position_Info.HYD_Motor_Speed',\n",
       " 'HYD_Motor_Position_Info.HYD_Motor_Speed',\n",
       " 'CP1_Motor_Speed',\n",
       " 'CAN2.CP1_Motor_Position_Info.CP1_Motor_Speed',\n",
       " 'CP1_Motor_Position_Info.CP1_Motor_Speed',\n",
       " 'CP2_Motor_Speed',\n",
       " 'CAN2.CP2_Motor_Position_Info.CP2_Motor_Speed',\n",
       " 'CP2_Motor_Position_Info.CP2_Motor_Speed',\n",
       " 'FAN_Motor_Speed',\n",
       " 'CAN2.FAN_Motor_Position_Info.FAN_Motor_Speed',\n",
       " 'FAN_Motor_Position_Info.FAN_Motor_Speed']"
      ]
     },
     "execution_count": 46,
     "metadata": {},
     "output_type": "execute_result"
    }
   ],
   "source": [
    "decoded.search('Motor_Speed')"
   ]
  },
  {
   "cell_type": "code",
   "execution_count": 48,
   "id": "61a26355",
   "metadata": {},
   "outputs": [],
   "source": [
    "sig = decoded.get('HYD_Motor_Speed')"
   ]
  },
  {
   "cell_type": "code",
   "execution_count": 71,
   "id": "e9ffab71",
   "metadata": {
    "notebookRunGroups": {
     "groupValue": "1"
    }
   },
   "outputs": [
    {
     "name": "stdout",
     "output_type": "stream",
     "text": [
      "{'query': '{__name__!=\"\"}', 'start': '1751480983.9905', 'end': '1751481518.1418', 'step': '267.07565'}\n"
     ]
    },
    {
     "data": {
      "text/plain": [
       "'{\"status\":\"success\",\"data\":{\"resultType\":\"matrix\",\"result\":[]},\"stats\":{\"seriesFetched\": \"0\",\"executionTimeMsec\":2}}'"
      ]
     },
     "execution_count": 71,
     "metadata": {},
     "output_type": "execute_result"
    }
   ],
   "source": [
    "metric_name = sig.name.replace(\" \", \"_\")\n",
    "start_ts = mdf.start_time + timedelta(seconds=sig.timestamps[0])\n",
    "end_ts = mdf.start_time + timedelta(seconds=sig.timestamps[-1])\n",
    "\n",
    "params = {\n",
    "    \"query\": '{__name__!=\"\"}',\n",
    "    \"start\": str(start_ts.timestamp()),\n",
    "    \"end\": str(end_ts.timestamp()),\n",
    "    \"step\": str((sig.timestamps[-1] - sig.timestamps[0]) / 2),\n",
    "}\n",
    "print(params)\n",
    "resp = requests.get('http://localhost:8428/api/v1/query_range', params=params, timeout=10)\n",
    "resp.text"
   ]
  },
  {
   "cell_type": "code",
   "execution_count": null,
   "id": "0ea95716",
   "metadata": {},
   "outputs": [],
   "source": []
  }
 ],
 "metadata": {
  "kernelspec": {
   "display_name": ".venv (3.10.14)",
   "language": "python",
   "name": "python3"
  },
  "language_info": {
   "codemirror_mode": {
    "name": "ipython",
    "version": 3
   },
   "file_extension": ".py",
   "mimetype": "text/x-python",
   "name": "python",
   "nbconvert_exporter": "python",
   "pygments_lexer": "ipython3",
   "version": "3.10.14"
  }
 },
 "nbformat": 4,
 "nbformat_minor": 5
}
